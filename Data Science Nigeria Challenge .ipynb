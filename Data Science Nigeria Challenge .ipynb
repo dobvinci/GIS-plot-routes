{
 "cells": [
  {
   "cell_type": "code",
   "execution_count": 103,
   "metadata": {},
   "outputs": [],
   "source": [
    "import pandas as pd\n",
    "import numpy as np\n",
    "from sklearn import preprocessing\n",
    "from sklearn.model_selection import train_test_split\n",
    "from sklearn.linear_model import LogisticRegression\n",
    "from sklearn.tree import DecisionTreeClassifier\n",
    "from sklearn.metrics import accuracy_score,classification_report,confusion_matrix\n",
    "from sklearn.ensemble import RandomForestClassifier,GradientBoostingClassifier\n",
    "from sklearn.naive_bayes import GaussianNB\n",
    "from xgboost import XGBClassifier\n",
    "from sklearn import metrics\n",
    "import seaborn as sns\n",
    "from sklearn.neighbors import KNeighborsClassifier\n",
    "from sklearn.svm import SVR\n",
    "from sklearn.neighbors import KNeighborsRegressor\n",
    "import pandas_profiling\n",
    "# Hyperparameter tuning\n",
    "from sklearn.model_selection import RandomizedSearchCV, GridSearchCV\n",
    "\n",
    "import matplotlib.pyplot as plt"
   ]
  },
  {
   "cell_type": "markdown",
   "metadata": {},
   "source": [
    "## Load the datasets"
   ]
  },
  {
   "cell_type": "code",
   "execution_count": 104,
   "metadata": {},
   "outputs": [
    {
     "name": "stdout",
     "output_type": "stream",
     "text": [
      "finished loading csv\n"
     ]
    }
   ],
   "source": [
    "train_demographics=pd.read_csv('traindemographics.csv')\n",
    "train_performance=pd.read_csv('trainperf.csv')\n",
    "train_previous_loans=pd.read_csv('trainprevloans.csv')\n",
    "test_previous_loan=pd.read_csv('testprevloans.csv')\n",
    "test_demographics=pd.read_csv('testdemographics.csv')\n",
    "test_performance=pd.read_csv('testperf.csv')\n",
    "submit=pd.read_csv('SampleSubmission.csv')\n",
    "print('finished loading csv')"
   ]
  },
  {
   "cell_type": "code",
   "execution_count": 105,
   "metadata": {},
   "outputs": [
    {
     "data": {
      "text/html": [
       "<div>\n",
       "<style scoped>\n",
       "    .dataframe tbody tr th:only-of-type {\n",
       "        vertical-align: middle;\n",
       "    }\n",
       "\n",
       "    .dataframe tbody tr th {\n",
       "        vertical-align: top;\n",
       "    }\n",
       "\n",
       "    .dataframe thead th {\n",
       "        text-align: right;\n",
       "    }\n",
       "</style>\n",
       "<table border=\"1\" class=\"dataframe\">\n",
       "  <thead>\n",
       "    <tr style=\"text-align: right;\">\n",
       "      <th></th>\n",
       "      <th>customerid</th>\n",
       "      <th>birthdate</th>\n",
       "      <th>bank_account_type</th>\n",
       "      <th>longitude_gps</th>\n",
       "      <th>latitude_gps</th>\n",
       "      <th>bank_name_clients</th>\n",
       "      <th>bank_branch_clients</th>\n",
       "      <th>employment_status_clients</th>\n",
       "      <th>level_of_education_clients</th>\n",
       "    </tr>\n",
       "  </thead>\n",
       "  <tbody>\n",
       "    <tr>\n",
       "      <th>0</th>\n",
       "      <td>8a858e135cb22031015cbafc76964ebd</td>\n",
       "      <td>1973-10-10 00:00:00.000000</td>\n",
       "      <td>Savings</td>\n",
       "      <td>3.319219</td>\n",
       "      <td>6.528604</td>\n",
       "      <td>GT Bank</td>\n",
       "      <td>NaN</td>\n",
       "      <td>NaN</td>\n",
       "      <td>NaN</td>\n",
       "    </tr>\n",
       "    <tr>\n",
       "      <th>1</th>\n",
       "      <td>8a858e275c7ea5ec015c82482d7c3996</td>\n",
       "      <td>1986-01-21 00:00:00.000000</td>\n",
       "      <td>Savings</td>\n",
       "      <td>3.325598</td>\n",
       "      <td>7.119403</td>\n",
       "      <td>Sterling Bank</td>\n",
       "      <td>NaN</td>\n",
       "      <td>Permanent</td>\n",
       "      <td>NaN</td>\n",
       "    </tr>\n",
       "    <tr>\n",
       "      <th>2</th>\n",
       "      <td>8a858e5b5bd99460015bdc95cd485634</td>\n",
       "      <td>1987-04-01 00:00:00.000000</td>\n",
       "      <td>Savings</td>\n",
       "      <td>5.746100</td>\n",
       "      <td>5.563174</td>\n",
       "      <td>Fidelity Bank</td>\n",
       "      <td>NaN</td>\n",
       "      <td>NaN</td>\n",
       "      <td>NaN</td>\n",
       "    </tr>\n",
       "    <tr>\n",
       "      <th>3</th>\n",
       "      <td>8a858efd5ca70688015cabd1f1e94b55</td>\n",
       "      <td>1991-07-19 00:00:00.000000</td>\n",
       "      <td>Savings</td>\n",
       "      <td>3.362850</td>\n",
       "      <td>6.642485</td>\n",
       "      <td>GT Bank</td>\n",
       "      <td>NaN</td>\n",
       "      <td>Permanent</td>\n",
       "      <td>NaN</td>\n",
       "    </tr>\n",
       "    <tr>\n",
       "      <th>4</th>\n",
       "      <td>8a858e785acd3412015acd48f4920d04</td>\n",
       "      <td>1982-11-22 00:00:00.000000</td>\n",
       "      <td>Savings</td>\n",
       "      <td>8.455332</td>\n",
       "      <td>11.971410</td>\n",
       "      <td>GT Bank</td>\n",
       "      <td>NaN</td>\n",
       "      <td>Permanent</td>\n",
       "      <td>NaN</td>\n",
       "    </tr>\n",
       "  </tbody>\n",
       "</table>\n",
       "</div>"
      ],
      "text/plain": [
       "                         customerid                   birthdate  \\\n",
       "0  8a858e135cb22031015cbafc76964ebd  1973-10-10 00:00:00.000000   \n",
       "1  8a858e275c7ea5ec015c82482d7c3996  1986-01-21 00:00:00.000000   \n",
       "2  8a858e5b5bd99460015bdc95cd485634  1987-04-01 00:00:00.000000   \n",
       "3  8a858efd5ca70688015cabd1f1e94b55  1991-07-19 00:00:00.000000   \n",
       "4  8a858e785acd3412015acd48f4920d04  1982-11-22 00:00:00.000000   \n",
       "\n",
       "  bank_account_type  longitude_gps  latitude_gps bank_name_clients  \\\n",
       "0           Savings       3.319219      6.528604           GT Bank   \n",
       "1           Savings       3.325598      7.119403     Sterling Bank   \n",
       "2           Savings       5.746100      5.563174     Fidelity Bank   \n",
       "3           Savings       3.362850      6.642485           GT Bank   \n",
       "4           Savings       8.455332     11.971410           GT Bank   \n",
       "\n",
       "  bank_branch_clients employment_status_clients level_of_education_clients  \n",
       "0                 NaN                       NaN                        NaN  \n",
       "1                 NaN                 Permanent                        NaN  \n",
       "2                 NaN                       NaN                        NaN  \n",
       "3                 NaN                 Permanent                        NaN  \n",
       "4                 NaN                 Permanent                        NaN  "
      ]
     },
     "execution_count": 105,
     "metadata": {},
     "output_type": "execute_result"
    }
   ],
   "source": [
    "train_demographics[train_demographics['customerid'].duplicated(keep=False)].sort_values('customerid')\n",
    "train_demographics = train_demographics.drop_duplicates(subset='customerid', keep='first', inplace=False)\n",
    "train_demographics.head()"
   ]
  },
  {
   "cell_type": "markdown",
   "metadata": {},
   "source": [
    "## Merge the Datasets"
   ]
  },
  {
   "cell_type": "code",
   "execution_count": 106,
   "metadata": {},
   "outputs": [],
   "source": [
    "train_demographics['set'] = 'train'\n",
    "test_demographics['set'] = 'test'\n",
    "train_performance['set'] = 'train'\n",
    "test_performance['set'] = 'test'\n",
    "train_previous_loans['set'] = 'train'\n",
    "test_previous_loan['set'] = 'test'"
   ]
  },
  {
   "cell_type": "code",
   "execution_count": 107,
   "metadata": {},
   "outputs": [],
   "source": [
    "Tdemographics=pd.concat([train_demographics,test_demographics] ,ignore_index = True, sort = False)\n",
    "Tperfomance=pd.concat([train_performance,test_performance], ignore_index = True, sort = False)\n",
    "Tprevious=pd.concat([train_previous_loans,test_previous_loan], ignore_index = True, sort = False)\n"
   ]
  },
  {
   "cell_type": "code",
   "execution_count": 108,
   "metadata": {},
   "outputs": [
    {
     "name": "stdout",
     "output_type": "stream",
     "text": [
      "(5821, 10) (5818, 11) (24090, 13)\n"
     ]
    }
   ],
   "source": [
    "print(Tdemographics.shape,Tperfomance.shape,Tprevious.shape)"
   ]
  },
  {
   "cell_type": "code",
   "execution_count": null,
   "metadata": {},
   "outputs": [],
   "source": []
  },
  {
   "cell_type": "code",
   "execution_count": 109,
   "metadata": {},
   "outputs": [
    {
     "name": "stdout",
     "output_type": "stream",
     "text": [
      "<class 'pandas.core.frame.DataFrame'>\n",
      "RangeIndex: 24090 entries, 0 to 24089\n",
      "Data columns (total 13 columns):\n",
      "customerid         24090 non-null object\n",
      "systemloanid       24090 non-null int64\n",
      "loannumber         24090 non-null int64\n",
      "approveddate       24090 non-null object\n",
      "creationdate       24090 non-null object\n",
      "loanamount         24090 non-null float64\n",
      "totaldue           24090 non-null float64\n",
      "termdays           24090 non-null int64\n",
      "closeddate         24090 non-null object\n",
      "referredby         1351 non-null object\n",
      "firstduedate       24090 non-null object\n",
      "firstrepaiddate    24090 non-null object\n",
      "set                24090 non-null object\n",
      "dtypes: float64(2), int64(3), object(8)\n",
      "memory usage: 2.4+ MB\n"
     ]
    }
   ],
   "source": [
    "Tprevious.info()"
   ]
  },
  {
   "cell_type": "code",
   "execution_count": 110,
   "metadata": {},
   "outputs": [],
   "source": [
    "##convert date columns to date time"
   ]
  },
  {
   "cell_type": "code",
   "execution_count": 111,
   "metadata": {},
   "outputs": [],
   "source": [
    "Tprevious.approveddate=pd.to_datetime(Tprevious.approveddate)"
   ]
  },
  {
   "cell_type": "code",
   "execution_count": 112,
   "metadata": {},
   "outputs": [],
   "source": [
    "Tprevious.creationdate=pd.to_datetime(Tprevious.creationdate)"
   ]
  },
  {
   "cell_type": "code",
   "execution_count": 113,
   "metadata": {},
   "outputs": [],
   "source": [
    "Tprevious.closeddate=pd.to_datetime(Tprevious.closeddate)"
   ]
  },
  {
   "cell_type": "markdown",
   "metadata": {},
   "source": [
    "## Descritiptive analytics"
   ]
  },
  {
   "cell_type": "markdown",
   "metadata": {},
   "source": [
    "#### Extract features from Tprevious"
   ]
  },
  {
   "cell_type": "markdown",
   "metadata": {},
   "source": [
    "get profit per user"
   ]
  },
  {
   "cell_type": "code",
   "execution_count": 212,
   "metadata": {},
   "outputs": [],
   "source": [
    "Tprevious['profit']=Tprevious['totaldue']-Tprevious['loanamount']"
   ]
  },
  {
   "cell_type": "code",
   "execution_count": 222,
   "metadata": {},
   "outputs": [
    {
     "data": {
      "text/html": [
       "<div>\n",
       "<style scoped>\n",
       "    .dataframe tbody tr th:only-of-type {\n",
       "        vertical-align: middle;\n",
       "    }\n",
       "\n",
       "    .dataframe tbody tr th {\n",
       "        vertical-align: top;\n",
       "    }\n",
       "\n",
       "    .dataframe thead th {\n",
       "        text-align: right;\n",
       "    }\n",
       "</style>\n",
       "<table border=\"1\" class=\"dataframe\">\n",
       "  <thead>\n",
       "    <tr style=\"text-align: right;\">\n",
       "      <th></th>\n",
       "      <th>systemloanid</th>\n",
       "      <th>loannumber</th>\n",
       "      <th>loanamount</th>\n",
       "      <th>totaldue</th>\n",
       "      <th>termdays</th>\n",
       "      <th>profit</th>\n",
       "      <th>return_days</th>\n",
       "      <th>days_left</th>\n",
       "    </tr>\n",
       "    <tr>\n",
       "      <th>customerid</th>\n",
       "      <th></th>\n",
       "      <th></th>\n",
       "      <th></th>\n",
       "      <th></th>\n",
       "      <th></th>\n",
       "      <th></th>\n",
       "      <th></th>\n",
       "      <th></th>\n",
       "    </tr>\n",
       "  </thead>\n",
       "  <tbody>\n",
       "    <tr>\n",
       "      <th>8a1088a0484472eb01484669e3ce4e0b</th>\n",
       "      <td>301960241</td>\n",
       "      <td>1</td>\n",
       "      <td>10000.0</td>\n",
       "      <td>11500.0</td>\n",
       "      <td>15</td>\n",
       "      <td>1500.0</td>\n",
       "      <td>22</td>\n",
       "      <td>-7</td>\n",
       "    </tr>\n",
       "    <tr>\n",
       "      <th>8a1a1e7e4f707f8b014f797718316cad</th>\n",
       "      <td>1207116783</td>\n",
       "      <td>10</td>\n",
       "      <td>70000.0</td>\n",
       "      <td>89500.0</td>\n",
       "      <td>150</td>\n",
       "      <td>19500.0</td>\n",
       "      <td>125</td>\n",
       "      <td>25</td>\n",
       "    </tr>\n",
       "    <tr>\n",
       "      <th>8a1a32fc49b632520149c3b8fdf85139</th>\n",
       "      <td>2112877797</td>\n",
       "      <td>28</td>\n",
       "      <td>90000.0</td>\n",
       "      <td>106500.0</td>\n",
       "      <td>135</td>\n",
       "      <td>16500.0</td>\n",
       "      <td>128</td>\n",
       "      <td>7</td>\n",
       "    </tr>\n",
       "    <tr>\n",
       "      <th>8a1eb5ba49a682300149c3c068b806c7</th>\n",
       "      <td>2414572019</td>\n",
       "      <td>36</td>\n",
       "      <td>130000.0</td>\n",
       "      <td>162400.0</td>\n",
       "      <td>270</td>\n",
       "      <td>32400.0</td>\n",
       "      <td>228</td>\n",
       "      <td>42</td>\n",
       "    </tr>\n",
       "    <tr>\n",
       "      <th>8a1edbf14734127f0147356fdb1b1eb2</th>\n",
       "      <td>603839223</td>\n",
       "      <td>3</td>\n",
       "      <td>20000.0</td>\n",
       "      <td>24500.0</td>\n",
       "      <td>45</td>\n",
       "      <td>4500.0</td>\n",
       "      <td>36</td>\n",
       "      <td>9</td>\n",
       "    </tr>\n",
       "  </tbody>\n",
       "</table>\n",
       "</div>"
      ],
      "text/plain": [
       "                                  systemloanid  loannumber  loanamount  \\\n",
       "customerid                                                               \n",
       "8a1088a0484472eb01484669e3ce4e0b     301960241           1     10000.0   \n",
       "8a1a1e7e4f707f8b014f797718316cad    1207116783          10     70000.0   \n",
       "8a1a32fc49b632520149c3b8fdf85139    2112877797          28     90000.0   \n",
       "8a1eb5ba49a682300149c3c068b806c7    2414572019          36    130000.0   \n",
       "8a1edbf14734127f0147356fdb1b1eb2     603839223           3     20000.0   \n",
       "\n",
       "                                  totaldue  termdays   profit  return_days  \\\n",
       "customerid                                                                   \n",
       "8a1088a0484472eb01484669e3ce4e0b   11500.0        15   1500.0           22   \n",
       "8a1a1e7e4f707f8b014f797718316cad   89500.0       150  19500.0          125   \n",
       "8a1a32fc49b632520149c3b8fdf85139  106500.0       135  16500.0          128   \n",
       "8a1eb5ba49a682300149c3c068b806c7  162400.0       270  32400.0          228   \n",
       "8a1edbf14734127f0147356fdb1b1eb2   24500.0        45   4500.0           36   \n",
       "\n",
       "                                  days_left  \n",
       "customerid                                   \n",
       "8a1088a0484472eb01484669e3ce4e0b         -7  \n",
       "8a1a1e7e4f707f8b014f797718316cad         25  \n",
       "8a1a32fc49b632520149c3b8fdf85139          7  \n",
       "8a1eb5ba49a682300149c3c068b806c7         42  \n",
       "8a1edbf14734127f0147356fdb1b1eb2          9  "
      ]
     },
     "execution_count": 222,
     "metadata": {},
     "output_type": "execute_result"
    }
   ],
   "source": [
    "p=Tprevious.groupby(['customerid']).sum()\n",
    "p.head()"
   ]
  },
  {
   "cell_type": "code",
   "execution_count": null,
   "metadata": {},
   "outputs": [],
   "source": []
  },
  {
   "cell_type": "code",
   "execution_count": 220,
   "metadata": {},
   "outputs": [
    {
     "name": "stdout",
     "output_type": "stream",
     "text": [
      "Skew is: 1.7588276870325499\n",
      "Kurtosis: 2.892041\n"
     ]
    },
    {
     "data": {
      "image/png": "[encoded data removed]",
      "text/plain": [
       "<Figure size 432x288 with 1 Axes>"
      ]
     },
     "metadata": {
      "needs_background": "light"
     },
     "output_type": "display_data"
    }
   ],
   "source": [
    "sns.distplot(p.profit, bins = 25)\n",
    "print(\"Skew is:\", p.profit.skew())\n",
    "print(\"Kurtosis: %f\" % p.profit.kurt())"
   ]
  },
  {
   "cell_type": "code",
   "execution_count": null,
   "metadata": {},
   "outputs": [],
   "source": []
  },
  {
   "cell_type": "markdown",
   "metadata": {},
   "source": [
    "Get return days"
   ]
  },
  {
   "cell_type": "code",
   "execution_count": 225,
   "metadata": {},
   "outputs": [],
   "source": [
    "Tprevious['return_days']=Tprevious.closeddate-Tprevious.approveddate\n",
    "Tprevious['return_days']=Tprevious['return_days'].apply(lambda x:int(str(x)[:2]))"
   ]
  },
  {
   "cell_type": "code",
   "execution_count": null,
   "metadata": {},
   "outputs": [],
   "source": []
  },
  {
   "cell_type": "code",
   "execution_count": 116,
   "metadata": {},
   "outputs": [],
   "source": [
    "#extract remaining days"
   ]
  },
  {
   "cell_type": "code",
   "execution_count": 117,
   "metadata": {},
   "outputs": [],
   "source": [
    "Tprevious['days_left']=Tprevious.termdays-Tprevious.return_days"
   ]
  },
  {
   "cell_type": "code",
   "execution_count": 118,
   "metadata": {},
   "outputs": [],
   "source": [
    "#Totalprofit\n",
    "Totalprofit=Tprevious.pivot_table(values='profit',index='customerid',aggfunc=sum)\n",
    "Totalprofit.rename(columns={'profit':'Totalprofit'},inplace=True)\n"
   ]
  },
  {
   "cell_type": "code",
   "execution_count": 119,
   "metadata": {},
   "outputs": [],
   "source": [
    "\n",
    "#Avgprofit\n",
    "Avgprofit=Tprevious.pivot_table(values='profit',index='customerid',aggfunc=np.mean)\n",
    "Avgprofit.rename(columns={'profit':'Avgprofit'},inplace=True)"
   ]
  },
  {
   "cell_type": "code",
   "execution_count": 120,
   "metadata": {},
   "outputs": [],
   "source": [
    "#Avgloanamount\n",
    "Avgloanamount=Tprevious.pivot_table(values='loanamount',index='customerid',aggfunc=np.mean)\n",
    "Avgloanamount.rename(columns={'loanamount':'Avgloanamount'},inplace=True)"
   ]
  },
  {
   "cell_type": "code",
   "execution_count": 121,
   "metadata": {},
   "outputs": [],
   "source": [
    "\n",
    "#Avgtermdays\n",
    "Avgtermdays=Tprevious.pivot_table(values='termdays',index='customerid',aggfunc=np.mean)\n",
    "Avgtermdays.rename(columns={'termdays':'Avgtermdays'},inplace=True)"
   ]
  },
  {
   "cell_type": "code",
   "execution_count": 122,
   "metadata": {},
   "outputs": [],
   "source": [
    "#earlypayment\n",
    "earlypayment=Tprevious.pivot_table(values='days_left',index='customerid',aggfunc=lambda x:(x>=0).sum())\n",
    "earlypayment.rename(columns={'days_left':'earlypayment'},inplace=True)\n"
   ]
  },
  {
   "cell_type": "code",
   "execution_count": 123,
   "metadata": {},
   "outputs": [],
   "source": [
    "\n",
    "#Avgdaysleft\n",
    "Avgdaysleft=Tprevious.pivot_table(values='days_left',index='customerid',aggfunc=np.mean)\n",
    "Avgdaysleft.rename(columns={'days_left':'Avgdaysleft'},inplace=True)"
   ]
  },
  {
   "cell_type": "code",
   "execution_count": 124,
   "metadata": {},
   "outputs": [],
   "source": [
    "features=[Totalprofit,Avgprofit,Avgloanamount,Avgtermdays,Avgdaysleft,earlypayment]"
   ]
  },
  {
   "cell_type": "code",
   "execution_count": 125,
   "metadata": {},
   "outputs": [],
   "source": [
    "features=features[0].join(features[1:])"
   ]
  },
  {
   "cell_type": "code",
   "execution_count": 126,
   "metadata": {},
   "outputs": [
    {
     "data": {
      "text/html": [
       "<div>\n",
       "<style scoped>\n",
       "    .dataframe tbody tr th:only-of-type {\n",
       "        vertical-align: middle;\n",
       "    }\n",
       "\n",
       "    .dataframe tbody tr th {\n",
       "        vertical-align: top;\n",
       "    }\n",
       "\n",
       "    .dataframe thead th {\n",
       "        text-align: right;\n",
       "    }\n",
       "</style>\n",
       "<table border=\"1\" class=\"dataframe\">\n",
       "  <thead>\n",
       "    <tr style=\"text-align: right;\">\n",
       "      <th></th>\n",
       "      <th>Totalprofit</th>\n",
       "      <th>Avgprofit</th>\n",
       "      <th>Avgloanamount</th>\n",
       "      <th>Avgtermdays</th>\n",
       "      <th>Avgdaysleft</th>\n",
       "      <th>earlypayment</th>\n",
       "    </tr>\n",
       "    <tr>\n",
       "      <th>customerid</th>\n",
       "      <th></th>\n",
       "      <th></th>\n",
       "      <th></th>\n",
       "      <th></th>\n",
       "      <th></th>\n",
       "      <th></th>\n",
       "    </tr>\n",
       "  </thead>\n",
       "  <tbody>\n",
       "    <tr>\n",
       "      <th>8a1088a0484472eb01484669e3ce4e0b</th>\n",
       "      <td>1500.0</td>\n",
       "      <td>1500.000000</td>\n",
       "      <td>10000.000000</td>\n",
       "      <td>15.000000</td>\n",
       "      <td>-7.00</td>\n",
       "      <td>0</td>\n",
       "    </tr>\n",
       "    <tr>\n",
       "      <th>8a1a1e7e4f707f8b014f797718316cad</th>\n",
       "      <td>19500.0</td>\n",
       "      <td>4875.000000</td>\n",
       "      <td>17500.000000</td>\n",
       "      <td>37.500000</td>\n",
       "      <td>6.25</td>\n",
       "      <td>3</td>\n",
       "    </tr>\n",
       "    <tr>\n",
       "      <th>8a1a32fc49b632520149c3b8fdf85139</th>\n",
       "      <td>16500.0</td>\n",
       "      <td>2357.142857</td>\n",
       "      <td>12857.142857</td>\n",
       "      <td>19.285714</td>\n",
       "      <td>1.00</td>\n",
       "      <td>6</td>\n",
       "    </tr>\n",
       "    <tr>\n",
       "      <th>8a1eb5ba49a682300149c3c068b806c7</th>\n",
       "      <td>32400.0</td>\n",
       "      <td>4050.000000</td>\n",
       "      <td>16250.000000</td>\n",
       "      <td>33.750000</td>\n",
       "      <td>5.25</td>\n",
       "      <td>8</td>\n",
       "    </tr>\n",
       "    <tr>\n",
       "      <th>8a1edbf14734127f0147356fdb1b1eb2</th>\n",
       "      <td>4500.0</td>\n",
       "      <td>2250.000000</td>\n",
       "      <td>10000.000000</td>\n",
       "      <td>22.500000</td>\n",
       "      <td>4.50</td>\n",
       "      <td>2</td>\n",
       "    </tr>\n",
       "  </tbody>\n",
       "</table>\n",
       "</div>"
      ],
      "text/plain": [
       "                                  Totalprofit    Avgprofit  Avgloanamount  \\\n",
       "customerid                                                                  \n",
       "8a1088a0484472eb01484669e3ce4e0b       1500.0  1500.000000   10000.000000   \n",
       "8a1a1e7e4f707f8b014f797718316cad      19500.0  4875.000000   17500.000000   \n",
       "8a1a32fc49b632520149c3b8fdf85139      16500.0  2357.142857   12857.142857   \n",
       "8a1eb5ba49a682300149c3c068b806c7      32400.0  4050.000000   16250.000000   \n",
       "8a1edbf14734127f0147356fdb1b1eb2       4500.0  2250.000000   10000.000000   \n",
       "\n",
       "                                  Avgtermdays  Avgdaysleft  earlypayment  \n",
       "customerid                                                                \n",
       "8a1088a0484472eb01484669e3ce4e0b    15.000000        -7.00             0  \n",
       "8a1a1e7e4f707f8b014f797718316cad    37.500000         6.25             3  \n",
       "8a1a32fc49b632520149c3b8fdf85139    19.285714         1.00             6  \n",
       "8a1eb5ba49a682300149c3c068b806c7    33.750000         5.25             8  \n",
       "8a1edbf14734127f0147356fdb1b1eb2    22.500000         4.50             2  "
      ]
     },
     "execution_count": 126,
     "metadata": {},
     "output_type": "execute_result"
    }
   ],
   "source": [
    "features.head()"
   ]
  },
  {
   "cell_type": "markdown",
   "metadata": {},
   "source": [
    "### Tperfomance"
   ]
  },
  {
   "cell_type": "code",
   "execution_count": 127,
   "metadata": {},
   "outputs": [],
   "source": [
    "#create a new profit columns"
   ]
  },
  {
   "cell_type": "code",
   "execution_count": 128,
   "metadata": {},
   "outputs": [],
   "source": [
    "Tperfomance['new_profit']=Tperfomance['totaldue']-Tperfomance['loanamount']"
   ]
  },
  {
   "cell_type": "code",
   "execution_count": 129,
   "metadata": {},
   "outputs": [
    {
     "data": {
      "text/plain": [
       "<matplotlib.axes._subplots.AxesSubplot at 0x7f4391f3e588>"
      ]
     },
     "execution_count": 129,
     "metadata": {},
     "output_type": "execute_result"
    },
    {
     "data": {
      "image/png": "[encoded data removed]",
      "text/plain": [
       "<Figure size 432x288 with 1 Axes>"
      ]
     },
     "metadata": {},
     "output_type": "display_data"
    }
   ],
   "source": [
    "gb=Tperfomance.good_bad_flag.value_counts()\n",
    "gb.plot(kind=\"pie\",autopct='%1.1f%%')\n"
   ]
  },
  {
   "cell_type": "code",
   "execution_count": 130,
   "metadata": {},
   "outputs": [],
   "source": [
    "Tperfomance.drop(columns=['systemloanid','creationdate','approveddate','totaldue'],inplace=True)"
   ]
  },
  {
   "cell_type": "markdown",
   "metadata": {},
   "source": [
    "## Merge the datasets"
   ]
  },
  {
   "cell_type": "code",
   "execution_count": 131,
   "metadata": {},
   "outputs": [],
   "source": [
    "#merge data which has attributes from previous loans to performance data\n",
    "features=pd.merge(features.reset_index(),Tperfomance,how='outer',on='customerid')"
   ]
  },
  {
   "cell_type": "code",
   "execution_count": 132,
   "metadata": {},
   "outputs": [],
   "source": [
    "#merge data which has attributes from previous & performance loans to demographics data\n",
    "features=pd.merge(features,Tdemographics,on='customerid',how='inner')"
   ]
  },
  {
   "cell_type": "code",
   "execution_count": 133,
   "metadata": {},
   "outputs": [
    {
     "data": {
      "text/plain": [
       "Index(['customerid', 'Totalprofit', 'Avgprofit', 'Avgloanamount',\n",
       "       'Avgtermdays', 'Avgdaysleft', 'earlypayment', 'loannumber',\n",
       "       'loanamount', 'termdays', 'referredby', 'good_bad_flag', 'set_x',\n",
       "       'new_profit', 'birthdate', 'bank_account_type', 'longitude_gps',\n",
       "       'latitude_gps', 'bank_name_clients', 'bank_branch_clients',\n",
       "       'employment_status_clients', 'level_of_education_clients', 'set_y'],\n",
       "      dtype='object')"
      ]
     },
     "execution_count": 133,
     "metadata": {},
     "output_type": "execute_result"
    }
   ],
   "source": [
    "features.columns"
   ]
  },
  {
   "cell_type": "code",
   "execution_count": 134,
   "metadata": {},
   "outputs": [],
   "source": [
    "features=features.drop('set_y',axis=1)"
   ]
  },
  {
   "cell_type": "code",
   "execution_count": 135,
   "metadata": {},
   "outputs": [
    {
     "data": {
      "text/html": [
       "<div>\n",
       "<style scoped>\n",
       "    .dataframe tbody tr th:only-of-type {\n",
       "        vertical-align: middle;\n",
       "    }\n",
       "\n",
       "    .dataframe tbody tr th {\n",
       "        vertical-align: top;\n",
       "    }\n",
       "\n",
       "    .dataframe thead th {\n",
       "        text-align: right;\n",
       "    }\n",
       "</style>\n",
       "<table border=\"1\" class=\"dataframe\">\n",
       "  <thead>\n",
       "    <tr style=\"text-align: right;\">\n",
       "      <th></th>\n",
       "      <th>customerid</th>\n",
       "      <th>Totalprofit</th>\n",
       "      <th>Avgprofit</th>\n",
       "      <th>Avgloanamount</th>\n",
       "      <th>Avgtermdays</th>\n",
       "      <th>Avgdaysleft</th>\n",
       "      <th>earlypayment</th>\n",
       "      <th>loannumber</th>\n",
       "      <th>loanamount</th>\n",
       "      <th>termdays</th>\n",
       "      <th>...</th>\n",
       "      <th>set_x</th>\n",
       "      <th>new_profit</th>\n",
       "      <th>birthdate</th>\n",
       "      <th>bank_account_type</th>\n",
       "      <th>longitude_gps</th>\n",
       "      <th>latitude_gps</th>\n",
       "      <th>bank_name_clients</th>\n",
       "      <th>bank_branch_clients</th>\n",
       "      <th>employment_status_clients</th>\n",
       "      <th>level_of_education_clients</th>\n",
       "    </tr>\n",
       "  </thead>\n",
       "  <tbody>\n",
       "    <tr>\n",
       "      <th>0</th>\n",
       "      <td>8a1088a0484472eb01484669e3ce4e0b</td>\n",
       "      <td>1500.0</td>\n",
       "      <td>1500.000000</td>\n",
       "      <td>10000.000000</td>\n",
       "      <td>15.000000</td>\n",
       "      <td>-7.00</td>\n",
       "      <td>0.0</td>\n",
       "      <td>2</td>\n",
       "      <td>10000.0</td>\n",
       "      <td>15</td>\n",
       "      <td>...</td>\n",
       "      <td>train</td>\n",
       "      <td>1500.0</td>\n",
       "      <td>1989-11-09 00:00:00.000000</td>\n",
       "      <td>Savings</td>\n",
       "      <td>3.351667</td>\n",
       "      <td>6.657019</td>\n",
       "      <td>GT Bank</td>\n",
       "      <td>OJUELEGBA</td>\n",
       "      <td>Permanent</td>\n",
       "      <td>Primary</td>\n",
       "    </tr>\n",
       "    <tr>\n",
       "      <th>1</th>\n",
       "      <td>8a1a1e7e4f707f8b014f797718316cad</td>\n",
       "      <td>19500.0</td>\n",
       "      <td>4875.000000</td>\n",
       "      <td>17500.000000</td>\n",
       "      <td>37.500000</td>\n",
       "      <td>6.25</td>\n",
       "      <td>3.0</td>\n",
       "      <td>5</td>\n",
       "      <td>30000.0</td>\n",
       "      <td>60</td>\n",
       "      <td>...</td>\n",
       "      <td>train</td>\n",
       "      <td>9000.0</td>\n",
       "      <td>1979-10-18 00:00:00.000000</td>\n",
       "      <td>Other</td>\n",
       "      <td>3.395230</td>\n",
       "      <td>6.592191</td>\n",
       "      <td>Standard Chartered</td>\n",
       "      <td>NaN</td>\n",
       "      <td>Permanent</td>\n",
       "      <td>Graduate</td>\n",
       "    </tr>\n",
       "    <tr>\n",
       "      <th>2</th>\n",
       "      <td>8a1a32fc49b632520149c3b8fdf85139</td>\n",
       "      <td>16500.0</td>\n",
       "      <td>2357.142857</td>\n",
       "      <td>12857.142857</td>\n",
       "      <td>19.285714</td>\n",
       "      <td>1.00</td>\n",
       "      <td>6.0</td>\n",
       "      <td>8</td>\n",
       "      <td>20000.0</td>\n",
       "      <td>30</td>\n",
       "      <td>...</td>\n",
       "      <td>train</td>\n",
       "      <td>4500.0</td>\n",
       "      <td>1979-01-29 00:00:00.000000</td>\n",
       "      <td>Savings</td>\n",
       "      <td>3.306388</td>\n",
       "      <td>6.651843</td>\n",
       "      <td>GT Bank</td>\n",
       "      <td>MUSHIN BRANCH</td>\n",
       "      <td>Permanent</td>\n",
       "      <td>Graduate</td>\n",
       "    </tr>\n",
       "    <tr>\n",
       "      <th>3</th>\n",
       "      <td>8a1eb5ba49a682300149c3c068b806c7</td>\n",
       "      <td>32400.0</td>\n",
       "      <td>4050.000000</td>\n",
       "      <td>16250.000000</td>\n",
       "      <td>33.750000</td>\n",
       "      <td>5.25</td>\n",
       "      <td>8.0</td>\n",
       "      <td>9</td>\n",
       "      <td>30000.0</td>\n",
       "      <td>60</td>\n",
       "      <td>...</td>\n",
       "      <td>train</td>\n",
       "      <td>9000.0</td>\n",
       "      <td>1978-11-25 00:00:00.000000</td>\n",
       "      <td>Savings</td>\n",
       "      <td>3.426698</td>\n",
       "      <td>6.423048</td>\n",
       "      <td>First Bank</td>\n",
       "      <td>17, SANUSI FAFUNWA STREET, VICTORIA ISLAND, LAGOS</td>\n",
       "      <td>Permanent</td>\n",
       "      <td>Secondary</td>\n",
       "    </tr>\n",
       "    <tr>\n",
       "      <th>4</th>\n",
       "      <td>8a1edbf14734127f0147356fdb1b1eb2</td>\n",
       "      <td>4500.0</td>\n",
       "      <td>2250.000000</td>\n",
       "      <td>10000.000000</td>\n",
       "      <td>22.500000</td>\n",
       "      <td>4.50</td>\n",
       "      <td>2.0</td>\n",
       "      <td>3</td>\n",
       "      <td>10000.0</td>\n",
       "      <td>15</td>\n",
       "      <td>...</td>\n",
       "      <td>train</td>\n",
       "      <td>1500.0</td>\n",
       "      <td>1978-04-07 00:00:00.000000</td>\n",
       "      <td>Savings</td>\n",
       "      <td>6.976132</td>\n",
       "      <td>4.801001</td>\n",
       "      <td>GT Bank</td>\n",
       "      <td>AKUTE,LAGOS.</td>\n",
       "      <td>Permanent</td>\n",
       "      <td>Secondary</td>\n",
       "    </tr>\n",
       "  </tbody>\n",
       "</table>\n",
       "<p>5 rows × 22 columns</p>\n",
       "</div>"
      ],
      "text/plain": [
       "                         customerid  Totalprofit    Avgprofit  Avgloanamount  \\\n",
       "0  8a1088a0484472eb01484669e3ce4e0b       1500.0  1500.000000   10000.000000   \n",
       "1  8a1a1e7e4f707f8b014f797718316cad      19500.0  4875.000000   17500.000000   \n",
       "2  8a1a32fc49b632520149c3b8fdf85139      16500.0  2357.142857   12857.142857   \n",
       "3  8a1eb5ba49a682300149c3c068b806c7      32400.0  4050.000000   16250.000000   \n",
       "4  8a1edbf14734127f0147356fdb1b1eb2       4500.0  2250.000000   10000.000000   \n",
       "\n",
       "   Avgtermdays  Avgdaysleft  earlypayment  loannumber  loanamount  termdays  \\\n",
       "0    15.000000        -7.00           0.0           2     10000.0        15   \n",
       "1    37.500000         6.25           3.0           5     30000.0        60   \n",
       "2    19.285714         1.00           6.0           8     20000.0        30   \n",
       "3    33.750000         5.25           8.0           9     30000.0        60   \n",
       "4    22.500000         4.50           2.0           3     10000.0        15   \n",
       "\n",
       "   ...  set_x new_profit                   birthdate  bank_account_type  \\\n",
       "0  ...  train     1500.0  1989-11-09 00:00:00.000000            Savings   \n",
       "1  ...  train     9000.0  1979-10-18 00:00:00.000000              Other   \n",
       "2  ...  train     4500.0  1979-01-29 00:00:00.000000            Savings   \n",
       "3  ...  train     9000.0  1978-11-25 00:00:00.000000            Savings   \n",
       "4  ...  train     1500.0  1978-04-07 00:00:00.000000            Savings   \n",
       "\n",
       "  longitude_gps latitude_gps   bank_name_clients  \\\n",
       "0      3.351667     6.657019             GT Bank   \n",
       "1      3.395230     6.592191  Standard Chartered   \n",
       "2      3.306388     6.651843             GT Bank   \n",
       "3      3.426698     6.423048          First Bank   \n",
       "4      6.976132     4.801001             GT Bank   \n",
       "\n",
       "                                 bank_branch_clients  \\\n",
       "0                                          OJUELEGBA   \n",
       "1                                                NaN   \n",
       "2                                      MUSHIN BRANCH   \n",
       "3  17, SANUSI FAFUNWA STREET, VICTORIA ISLAND, LAGOS   \n",
       "4                                       AKUTE,LAGOS.   \n",
       "\n",
       "  employment_status_clients level_of_education_clients  \n",
       "0                 Permanent                    Primary  \n",
       "1                 Permanent                   Graduate  \n",
       "2                 Permanent                   Graduate  \n",
       "3                 Permanent                  Secondary  \n",
       "4                 Permanent                  Secondary  \n",
       "\n",
       "[5 rows x 22 columns]"
      ]
     },
     "execution_count": 135,
     "metadata": {},
     "output_type": "execute_result"
    }
   ],
   "source": [
    "features.head()"
   ]
  },
  {
   "cell_type": "code",
   "execution_count": null,
   "metadata": {},
   "outputs": [],
   "source": []
  },
  {
   "cell_type": "code",
   "execution_count": 136,
   "metadata": {},
   "outputs": [
    {
     "data": {
      "text/html": [
       "<div>\n",
       "<style scoped>\n",
       "    .dataframe tbody tr th:only-of-type {\n",
       "        vertical-align: middle;\n",
       "    }\n",
       "\n",
       "    .dataframe tbody tr th {\n",
       "        vertical-align: top;\n",
       "    }\n",
       "\n",
       "    .dataframe thead th {\n",
       "        text-align: right;\n",
       "    }\n",
       "</style>\n",
       "<table border=\"1\" class=\"dataframe\">\n",
       "  <thead>\n",
       "    <tr style=\"text-align: right;\">\n",
       "      <th></th>\n",
       "      <th>customerid</th>\n",
       "      <th>Totalprofit</th>\n",
       "      <th>Avgprofit</th>\n",
       "      <th>Avgloanamount</th>\n",
       "      <th>Avgtermdays</th>\n",
       "      <th>Avgdaysleft</th>\n",
       "      <th>earlypayment</th>\n",
       "      <th>loannumber</th>\n",
       "      <th>loanamount</th>\n",
       "      <th>termdays</th>\n",
       "      <th>...</th>\n",
       "      <th>set_x</th>\n",
       "      <th>new_profit</th>\n",
       "      <th>birthdate</th>\n",
       "      <th>bank_account_type</th>\n",
       "      <th>longitude_gps</th>\n",
       "      <th>latitude_gps</th>\n",
       "      <th>bank_name_clients</th>\n",
       "      <th>bank_branch_clients</th>\n",
       "      <th>employment_status_clients</th>\n",
       "      <th>level_of_education_clients</th>\n",
       "    </tr>\n",
       "  </thead>\n",
       "  <tbody>\n",
       "    <tr>\n",
       "      <th>0</th>\n",
       "      <td>8a1088a0484472eb01484669e3ce4e0b</td>\n",
       "      <td>1500.0</td>\n",
       "      <td>1500.000000</td>\n",
       "      <td>10000.000000</td>\n",
       "      <td>15.000000</td>\n",
       "      <td>-7.00</td>\n",
       "      <td>0.0</td>\n",
       "      <td>2</td>\n",
       "      <td>10000.0</td>\n",
       "      <td>15</td>\n",
       "      <td>...</td>\n",
       "      <td>train</td>\n",
       "      <td>1500.0</td>\n",
       "      <td>1989-11-09 00:00:00.000000</td>\n",
       "      <td>Savings</td>\n",
       "      <td>3.351667</td>\n",
       "      <td>6.657019</td>\n",
       "      <td>GT Bank</td>\n",
       "      <td>OJUELEGBA</td>\n",
       "      <td>Permanent</td>\n",
       "      <td>Primary</td>\n",
       "    </tr>\n",
       "    <tr>\n",
       "      <th>1</th>\n",
       "      <td>8a1a1e7e4f707f8b014f797718316cad</td>\n",
       "      <td>19500.0</td>\n",
       "      <td>4875.000000</td>\n",
       "      <td>17500.000000</td>\n",
       "      <td>37.500000</td>\n",
       "      <td>6.25</td>\n",
       "      <td>3.0</td>\n",
       "      <td>5</td>\n",
       "      <td>30000.0</td>\n",
       "      <td>60</td>\n",
       "      <td>...</td>\n",
       "      <td>train</td>\n",
       "      <td>9000.0</td>\n",
       "      <td>1979-10-18 00:00:00.000000</td>\n",
       "      <td>Other</td>\n",
       "      <td>3.395230</td>\n",
       "      <td>6.592191</td>\n",
       "      <td>Standard Chartered</td>\n",
       "      <td>NaN</td>\n",
       "      <td>Permanent</td>\n",
       "      <td>Graduate</td>\n",
       "    </tr>\n",
       "    <tr>\n",
       "      <th>2</th>\n",
       "      <td>8a1a32fc49b632520149c3b8fdf85139</td>\n",
       "      <td>16500.0</td>\n",
       "      <td>2357.142857</td>\n",
       "      <td>12857.142857</td>\n",
       "      <td>19.285714</td>\n",
       "      <td>1.00</td>\n",
       "      <td>6.0</td>\n",
       "      <td>8</td>\n",
       "      <td>20000.0</td>\n",
       "      <td>30</td>\n",
       "      <td>...</td>\n",
       "      <td>train</td>\n",
       "      <td>4500.0</td>\n",
       "      <td>1979-01-29 00:00:00.000000</td>\n",
       "      <td>Savings</td>\n",
       "      <td>3.306388</td>\n",
       "      <td>6.651843</td>\n",
       "      <td>GT Bank</td>\n",
       "      <td>MUSHIN BRANCH</td>\n",
       "      <td>Permanent</td>\n",
       "      <td>Graduate</td>\n",
       "    </tr>\n",
       "    <tr>\n",
       "      <th>3</th>\n",
       "      <td>8a1eb5ba49a682300149c3c068b806c7</td>\n",
       "      <td>32400.0</td>\n",
       "      <td>4050.000000</td>\n",
       "      <td>16250.000000</td>\n",
       "      <td>33.750000</td>\n",
       "      <td>5.25</td>\n",
       "      <td>8.0</td>\n",
       "      <td>9</td>\n",
       "      <td>30000.0</td>\n",
       "      <td>60</td>\n",
       "      <td>...</td>\n",
       "      <td>train</td>\n",
       "      <td>9000.0</td>\n",
       "      <td>1978-11-25 00:00:00.000000</td>\n",
       "      <td>Savings</td>\n",
       "      <td>3.426698</td>\n",
       "      <td>6.423048</td>\n",
       "      <td>First Bank</td>\n",
       "      <td>17, SANUSI FAFUNWA STREET, VICTORIA ISLAND, LAGOS</td>\n",
       "      <td>Permanent</td>\n",
       "      <td>Secondary</td>\n",
       "    </tr>\n",
       "    <tr>\n",
       "      <th>4</th>\n",
       "      <td>8a1edbf14734127f0147356fdb1b1eb2</td>\n",
       "      <td>4500.0</td>\n",
       "      <td>2250.000000</td>\n",
       "      <td>10000.000000</td>\n",
       "      <td>22.500000</td>\n",
       "      <td>4.50</td>\n",
       "      <td>2.0</td>\n",
       "      <td>3</td>\n",
       "      <td>10000.0</td>\n",
       "      <td>15</td>\n",
       "      <td>...</td>\n",
       "      <td>train</td>\n",
       "      <td>1500.0</td>\n",
       "      <td>1978-04-07 00:00:00.000000</td>\n",
       "      <td>Savings</td>\n",
       "      <td>6.976132</td>\n",
       "      <td>4.801001</td>\n",
       "      <td>GT Bank</td>\n",
       "      <td>AKUTE,LAGOS.</td>\n",
       "      <td>Permanent</td>\n",
       "      <td>Secondary</td>\n",
       "    </tr>\n",
       "  </tbody>\n",
       "</table>\n",
       "<p>5 rows × 22 columns</p>\n",
       "</div>"
      ],
      "text/plain": [
       "                         customerid  Totalprofit    Avgprofit  Avgloanamount  \\\n",
       "0  8a1088a0484472eb01484669e3ce4e0b       1500.0  1500.000000   10000.000000   \n",
       "1  8a1a1e7e4f707f8b014f797718316cad      19500.0  4875.000000   17500.000000   \n",
       "2  8a1a32fc49b632520149c3b8fdf85139      16500.0  2357.142857   12857.142857   \n",
       "3  8a1eb5ba49a682300149c3c068b806c7      32400.0  4050.000000   16250.000000   \n",
       "4  8a1edbf14734127f0147356fdb1b1eb2       4500.0  2250.000000   10000.000000   \n",
       "\n",
       "   Avgtermdays  Avgdaysleft  earlypayment  loannumber  loanamount  termdays  \\\n",
       "0    15.000000        -7.00           0.0           2     10000.0        15   \n",
       "1    37.500000         6.25           3.0           5     30000.0        60   \n",
       "2    19.285714         1.00           6.0           8     20000.0        30   \n",
       "3    33.750000         5.25           8.0           9     30000.0        60   \n",
       "4    22.500000         4.50           2.0           3     10000.0        15   \n",
       "\n",
       "   ...  set_x new_profit                   birthdate  bank_account_type  \\\n",
       "0  ...  train     1500.0  1989-11-09 00:00:00.000000            Savings   \n",
       "1  ...  train     9000.0  1979-10-18 00:00:00.000000              Other   \n",
       "2  ...  train     4500.0  1979-01-29 00:00:00.000000            Savings   \n",
       "3  ...  train     9000.0  1978-11-25 00:00:00.000000            Savings   \n",
       "4  ...  train     1500.0  1978-04-07 00:00:00.000000            Savings   \n",
       "\n",
       "  longitude_gps latitude_gps   bank_name_clients  \\\n",
       "0      3.351667     6.657019             GT Bank   \n",
       "1      3.395230     6.592191  Standard Chartered   \n",
       "2      3.306388     6.651843             GT Bank   \n",
       "3      3.426698     6.423048          First Bank   \n",
       "4      6.976132     4.801001             GT Bank   \n",
       "\n",
       "                                 bank_branch_clients  \\\n",
       "0                                          OJUELEGBA   \n",
       "1                                                NaN   \n",
       "2                                      MUSHIN BRANCH   \n",
       "3  17, SANUSI FAFUNWA STREET, VICTORIA ISLAND, LAGOS   \n",
       "4                                       AKUTE,LAGOS.   \n",
       "\n",
       "  employment_status_clients level_of_education_clients  \n",
       "0                 Permanent                    Primary  \n",
       "1                 Permanent                   Graduate  \n",
       "2                 Permanent                   Graduate  \n",
       "3                 Permanent                  Secondary  \n",
       "4                 Permanent                  Secondary  \n",
       "\n",
       "[5 rows x 22 columns]"
      ]
     },
     "execution_count": 136,
     "metadata": {},
     "output_type": "execute_result"
    }
   ],
   "source": [
    "features.head()"
   ]
  },
  {
   "cell_type": "markdown",
   "metadata": {},
   "source": [
    "We shall not drop GPS instead we normalize the outliers"
   ]
  },
  {
   "cell_type": "code",
   "execution_count": 137,
   "metadata": {},
   "outputs": [],
   "source": [
    "#remove outliers in GPS "
   ]
  },
  {
   "cell_type": "code",
   "execution_count": 138,
   "metadata": {},
   "outputs": [
    {
     "name": "stdout",
     "output_type": "stream",
     "text": [
      "8.773581519999997\n",
      "3.17528492\n",
      "11.130042259999993\n",
      "4.82342942\n"
     ]
    },
    {
     "data": {
      "text/plain": [
       "6.6211758000000005"
      ]
     },
     "execution_count": 138,
     "metadata": {},
     "output_type": "execute_result"
    }
   ],
   "source": [
    "##to check the percentile in longitude\n",
    "print(np.nanpercentile(features.longitude_gps,98))\n",
    "features.longitude_gps.median()\n",
    "\n",
    "print(np.nanpercentile(features.longitude_gps,2))\n",
    "features.longitude_gps.median()\n",
    "\n",
    "\n",
    "##to check the percentile in lat\n",
    "print(np.nanpercentile(features.latitude_gps,98))\n",
    "features.latitude_gps.median()\n",
    "\n",
    "print(np.nanpercentile(features.latitude_gps,2))\n",
    "features.latitude_gps.median()\n"
   ]
  },
  {
   "cell_type": "code",
   "execution_count": 139,
   "metadata": {},
   "outputs": [],
   "source": [
    "## replacing min and max with 2 and 98 percentile\n",
    "features.loc[features.longitude_gps <3.17528492, 'longitude_gps']= 3.17528492\n",
    "features.loc[features.longitude_gps >8.7735815, 'longitude_gps']= 8.7735815\n",
    "#fill the null values with median\n",
    "features.longitude_gps.fillna(features.longitude_gps.mean(), inplace = True)\n",
    "\n",
    "## replacing min and max with 2 and 98 percentile\n",
    "features.loc[features.latitude_gps <4.82342942, 'latitude_gps']= 4.82342942\n",
    "features.loc[features['latitude_gps'] > 11.130042 ,'latitude_gps']= 11.130042\n",
    "features.latitude_gps.fillna(features.latitude_gps.mean(), inplace = True)"
   ]
  },
  {
   "cell_type": "code",
   "execution_count": 140,
   "metadata": {},
   "outputs": [
    {
     "name": "stdout",
     "output_type": "stream",
     "text": [
      "<class 'pandas.core.frame.DataFrame'>\n",
      "Int64Index: 5821 entries, 0 to 5820\n",
      "Data columns (total 22 columns):\n",
      "customerid                    5821 non-null object\n",
      "Totalprofit                   5804 non-null float64\n",
      "Avgprofit                     5804 non-null float64\n",
      "Avgloanamount                 5804 non-null float64\n",
      "Avgtermdays                   5804 non-null float64\n",
      "Avgdaysleft                   5804 non-null float64\n",
      "earlypayment                  5804 non-null float64\n",
      "loannumber                    5821 non-null int64\n",
      "loanamount                    5821 non-null float64\n",
      "termdays                      5821 non-null int64\n",
      "referredby                    771 non-null object\n",
      "good_bad_flag                 4371 non-null object\n",
      "set_x                         5821 non-null object\n",
      "new_profit                    5821 non-null float64\n",
      "birthdate                     5821 non-null object\n",
      "bank_account_type             5821 non-null object\n",
      "longitude_gps                 5821 non-null float64\n",
      "latitude_gps                  5821 non-null float64\n",
      "bank_name_clients             5821 non-null object\n",
      "bank_branch_clients           65 non-null object\n",
      "employment_status_clients     4956 non-null object\n",
      "level_of_education_clients    796 non-null object\n",
      "dtypes: float64(10), int64(2), object(10)\n",
      "memory usage: 1.0+ MB\n"
     ]
    }
   ],
   "source": [
    "features.info()"
   ]
  },
  {
   "cell_type": "markdown",
   "metadata": {},
   "source": [
    "### Function to calculate percentage of missing values"
   ]
  },
  {
   "cell_type": "code",
   "execution_count": 141,
   "metadata": {},
   "outputs": [],
   "source": [
    "\n",
    "def missing_values_table(df):\n",
    "        # Total missing values\n",
    "        mis_val = df.isnull().sum()\n",
    "        \n",
    "        # Percentage of missing values\n",
    "        mis_val_percent = 100 * df.isnull().sum() / len(df)\n",
    "        \n",
    "        # Make a table with the results\n",
    "        mis_val_table = pd.concat([mis_val, mis_val_percent], axis=1)\n",
    "        \n",
    "        # Rename the columns\n",
    "        mis_val_table_ren_columns = mis_val_table.rename(\n",
    "        columns = {0 : 'Missing Values', 1 : '% of Total Values'})\n",
    "        \n",
    "        # Sort the table by percentage of missing descending\n",
    "        mis_val_table_ren_columns = mis_val_table_ren_columns[\n",
    "            mis_val_table_ren_columns.iloc[:,1] != 0].sort_values(\n",
    "        '% of Total Values', ascending=False).round(1)\n",
    "        \n",
    "        # Print some summary information\n",
    "        print (\"Your selected dataframe has \" + str(df.shape[1]) + \" columns.\\n\"      \n",
    "            \"There are \" + str(mis_val_table_ren_columns.shape[0]) +\n",
    "              \" columns that have missing values.\")\n",
    "        \n",
    "        # Return the dataframe with missing information\n",
    "        return mis_val_table_ren_columns"
   ]
  },
  {
   "cell_type": "markdown",
   "metadata": {},
   "source": [
    "Check missing values"
   ]
  },
  {
   "cell_type": "code",
   "execution_count": 142,
   "metadata": {},
   "outputs": [
    {
     "name": "stdout",
     "output_type": "stream",
     "text": [
      "Your selected dataframe has 22 columns.\n",
      "There are 11 columns that have missing values.\n"
     ]
    },
    {
     "data": {
      "text/html": [
       "<div>\n",
       "<style scoped>\n",
       "    .dataframe tbody tr th:only-of-type {\n",
       "        vertical-align: middle;\n",
       "    }\n",
       "\n",
       "    .dataframe tbody tr th {\n",
       "        vertical-align: top;\n",
       "    }\n",
       "\n",
       "    .dataframe thead th {\n",
       "        text-align: right;\n",
       "    }\n",
       "</style>\n",
       "<table border=\"1\" class=\"dataframe\">\n",
       "  <thead>\n",
       "    <tr style=\"text-align: right;\">\n",
       "      <th></th>\n",
       "      <th>Missing Values</th>\n",
       "      <th>% of Total Values</th>\n",
       "    </tr>\n",
       "  </thead>\n",
       "  <tbody>\n",
       "    <tr>\n",
       "      <th>bank_branch_clients</th>\n",
       "      <td>5756</td>\n",
       "      <td>98.9</td>\n",
       "    </tr>\n",
       "    <tr>\n",
       "      <th>referredby</th>\n",
       "      <td>5050</td>\n",
       "      <td>86.8</td>\n",
       "    </tr>\n",
       "    <tr>\n",
       "      <th>level_of_education_clients</th>\n",
       "      <td>5025</td>\n",
       "      <td>86.3</td>\n",
       "    </tr>\n",
       "    <tr>\n",
       "      <th>good_bad_flag</th>\n",
       "      <td>1450</td>\n",
       "      <td>24.9</td>\n",
       "    </tr>\n",
       "    <tr>\n",
       "      <th>employment_status_clients</th>\n",
       "      <td>865</td>\n",
       "      <td>14.9</td>\n",
       "    </tr>\n",
       "    <tr>\n",
       "      <th>Totalprofit</th>\n",
       "      <td>17</td>\n",
       "      <td>0.3</td>\n",
       "    </tr>\n",
       "    <tr>\n",
       "      <th>Avgprofit</th>\n",
       "      <td>17</td>\n",
       "      <td>0.3</td>\n",
       "    </tr>\n",
       "    <tr>\n",
       "      <th>Avgloanamount</th>\n",
       "      <td>17</td>\n",
       "      <td>0.3</td>\n",
       "    </tr>\n",
       "    <tr>\n",
       "      <th>Avgtermdays</th>\n",
       "      <td>17</td>\n",
       "      <td>0.3</td>\n",
       "    </tr>\n",
       "    <tr>\n",
       "      <th>Avgdaysleft</th>\n",
       "      <td>17</td>\n",
       "      <td>0.3</td>\n",
       "    </tr>\n",
       "    <tr>\n",
       "      <th>earlypayment</th>\n",
       "      <td>17</td>\n",
       "      <td>0.3</td>\n",
       "    </tr>\n",
       "  </tbody>\n",
       "</table>\n",
       "</div>"
      ],
      "text/plain": [
       "                            Missing Values  % of Total Values\n",
       "bank_branch_clients                   5756               98.9\n",
       "referredby                            5050               86.8\n",
       "level_of_education_clients            5025               86.3\n",
       "good_bad_flag                         1450               24.9\n",
       "employment_status_clients              865               14.9\n",
       "Totalprofit                             17                0.3\n",
       "Avgprofit                               17                0.3\n",
       "Avgloanamount                           17                0.3\n",
       "Avgtermdays                             17                0.3\n",
       "Avgdaysleft                             17                0.3\n",
       "earlypayment                            17                0.3"
      ]
     },
     "execution_count": 142,
     "metadata": {},
     "output_type": "execute_result"
    }
   ],
   "source": [
    "missing_values_table(features)"
   ]
  },
  {
   "cell_type": "markdown",
   "metadata": {},
   "source": [
    "We have 98.9% branch clients missing.We will drop that column because lat long represents location.We also drop reffered by since it does not have any effect on our prediction"
   ]
  },
  {
   "cell_type": "code",
   "execution_count": 143,
   "metadata": {},
   "outputs": [],
   "source": [
    "features=features.drop(['bank_branch_clients','referredby'],axis=1)"
   ]
  },
  {
   "cell_type": "code",
   "execution_count": 144,
   "metadata": {},
   "outputs": [],
   "source": [
    "#term days descriptive analysis"
   ]
  },
  {
   "cell_type": "code",
   "execution_count": 145,
   "metadata": {},
   "outputs": [
    {
     "data": {
      "text/plain": [
       "<matplotlib.axes._subplots.AxesSubplot at 0x7f4391fdf978>"
      ]
     },
     "execution_count": 145,
     "metadata": {},
     "output_type": "execute_result"
    },
    {
     "data": {
      "image/png": "[encoded data removed]",
      "text/plain": [
       "<Figure size 432x288 with 1 Axes>"
      ]
     },
     "metadata": {
      "needs_background": "light"
     },
     "output_type": "display_data"
    }
   ],
   "source": [
    "features.termdays.plot.hist(bins=10)"
   ]
  },
  {
   "cell_type": "markdown",
   "metadata": {},
   "source": [
    "There is an outlier so we might revisit in tuning**"
   ]
  },
  {
   "cell_type": "code",
   "execution_count": 146,
   "metadata": {},
   "outputs": [
    {
     "data": {
      "text/plain": [
       "Graduate         577\n",
       "Secondary        118\n",
       "Post-Graduate     90\n",
       "Primary           11\n",
       "Name: level_of_education_clients, dtype: int64"
      ]
     },
     "execution_count": 146,
     "metadata": {},
     "output_type": "execute_result"
    }
   ],
   "source": [
    "features.level_of_education_clients.value_counts()"
   ]
  },
  {
   "cell_type": "markdown",
   "metadata": {},
   "source": [
    "Level of education might be important so we dont drop the column, we fill na with unknown"
   ]
  },
  {
   "cell_type": "code",
   "execution_count": 147,
   "metadata": {},
   "outputs": [],
   "source": [
    "features.level_of_education_clients.fillna(\"Unknown\",inplace=True)"
   ]
  },
  {
   "cell_type": "markdown",
   "metadata": {},
   "source": [
    "Employment status"
   ]
  },
  {
   "cell_type": "code",
   "execution_count": 148,
   "metadata": {},
   "outputs": [
    {
     "data": {
      "text/plain": [
       "Permanent        4208\n",
       "Self-Employed     470\n",
       "Student           189\n",
       "Unemployed         79\n",
       "Retired             8\n",
       "Contract            2\n",
       "Name: employment_status_clients, dtype: int64"
      ]
     },
     "execution_count": 148,
     "metadata": {},
     "output_type": "execute_result"
    }
   ],
   "source": [
    "features.employment_status_clients.value_counts()"
   ]
  },
  {
   "cell_type": "code",
   "execution_count": 149,
   "metadata": {},
   "outputs": [],
   "source": [
    "features.employment_status_clients=features.employment_status_clients.replace({\"Contract\":\"Unemployed\",\"Retired\":\"Unemployed\"})"
   ]
  },
  {
   "cell_type": "code",
   "execution_count": 150,
   "metadata": {},
   "outputs": [],
   "source": [
    "features.employment_status_clients=features.employment_status_clients.fillna(features.employment_status_clients.mode()[0])"
   ]
  },
  {
   "cell_type": "code",
   "execution_count": 151,
   "metadata": {},
   "outputs": [],
   "source": [
    "#Convert birthdate to datetime"
   ]
  },
  {
   "cell_type": "code",
   "execution_count": 152,
   "metadata": {},
   "outputs": [],
   "source": [
    "features[\"birthdate\"]=pd.to_datetime(features.birthdate)"
   ]
  },
  {
   "cell_type": "code",
   "execution_count": 153,
   "metadata": {},
   "outputs": [
    {
     "data": {
      "text/html": [
       "<div>\n",
       "<style scoped>\n",
       "    .dataframe tbody tr th:only-of-type {\n",
       "        vertical-align: middle;\n",
       "    }\n",
       "\n",
       "    .dataframe tbody tr th {\n",
       "        vertical-align: top;\n",
       "    }\n",
       "\n",
       "    .dataframe thead th {\n",
       "        text-align: right;\n",
       "    }\n",
       "</style>\n",
       "<table border=\"1\" class=\"dataframe\">\n",
       "  <thead>\n",
       "    <tr style=\"text-align: right;\">\n",
       "      <th></th>\n",
       "      <th>customerid</th>\n",
       "      <th>Totalprofit</th>\n",
       "      <th>Avgprofit</th>\n",
       "      <th>Avgloanamount</th>\n",
       "      <th>Avgtermdays</th>\n",
       "      <th>Avgdaysleft</th>\n",
       "      <th>earlypayment</th>\n",
       "      <th>loannumber</th>\n",
       "      <th>loanamount</th>\n",
       "      <th>termdays</th>\n",
       "      <th>good_bad_flag</th>\n",
       "      <th>set_x</th>\n",
       "      <th>new_profit</th>\n",
       "      <th>birthdate</th>\n",
       "      <th>bank_account_type</th>\n",
       "      <th>longitude_gps</th>\n",
       "      <th>latitude_gps</th>\n",
       "      <th>bank_name_clients</th>\n",
       "      <th>employment_status_clients</th>\n",
       "      <th>level_of_education_clients</th>\n",
       "    </tr>\n",
       "  </thead>\n",
       "  <tbody>\n",
       "    <tr>\n",
       "      <th>0</th>\n",
       "      <td>8a1088a0484472eb01484669e3ce4e0b</td>\n",
       "      <td>1500.0</td>\n",
       "      <td>1500.000000</td>\n",
       "      <td>10000.000000</td>\n",
       "      <td>15.000000</td>\n",
       "      <td>-7.00</td>\n",
       "      <td>0.0</td>\n",
       "      <td>2</td>\n",
       "      <td>10000.0</td>\n",
       "      <td>15</td>\n",
       "      <td>Bad</td>\n",
       "      <td>train</td>\n",
       "      <td>1500.0</td>\n",
       "      <td>1989-11-09</td>\n",
       "      <td>Savings</td>\n",
       "      <td>3.351667</td>\n",
       "      <td>6.657019</td>\n",
       "      <td>GT Bank</td>\n",
       "      <td>Permanent</td>\n",
       "      <td>Primary</td>\n",
       "    </tr>\n",
       "    <tr>\n",
       "      <th>1</th>\n",
       "      <td>8a1a1e7e4f707f8b014f797718316cad</td>\n",
       "      <td>19500.0</td>\n",
       "      <td>4875.000000</td>\n",
       "      <td>17500.000000</td>\n",
       "      <td>37.500000</td>\n",
       "      <td>6.25</td>\n",
       "      <td>3.0</td>\n",
       "      <td>5</td>\n",
       "      <td>30000.0</td>\n",
       "      <td>60</td>\n",
       "      <td>Good</td>\n",
       "      <td>train</td>\n",
       "      <td>9000.0</td>\n",
       "      <td>1979-10-18</td>\n",
       "      <td>Other</td>\n",
       "      <td>3.395230</td>\n",
       "      <td>6.592191</td>\n",
       "      <td>Standard Chartered</td>\n",
       "      <td>Permanent</td>\n",
       "      <td>Graduate</td>\n",
       "    </tr>\n",
       "    <tr>\n",
       "      <th>2</th>\n",
       "      <td>8a1a32fc49b632520149c3b8fdf85139</td>\n",
       "      <td>16500.0</td>\n",
       "      <td>2357.142857</td>\n",
       "      <td>12857.142857</td>\n",
       "      <td>19.285714</td>\n",
       "      <td>1.00</td>\n",
       "      <td>6.0</td>\n",
       "      <td>8</td>\n",
       "      <td>20000.0</td>\n",
       "      <td>30</td>\n",
       "      <td>Good</td>\n",
       "      <td>train</td>\n",
       "      <td>4500.0</td>\n",
       "      <td>1979-01-29</td>\n",
       "      <td>Savings</td>\n",
       "      <td>3.306388</td>\n",
       "      <td>6.651843</td>\n",
       "      <td>GT Bank</td>\n",
       "      <td>Permanent</td>\n",
       "      <td>Graduate</td>\n",
       "    </tr>\n",
       "    <tr>\n",
       "      <th>3</th>\n",
       "      <td>8a1eb5ba49a682300149c3c068b806c7</td>\n",
       "      <td>32400.0</td>\n",
       "      <td>4050.000000</td>\n",
       "      <td>16250.000000</td>\n",
       "      <td>33.750000</td>\n",
       "      <td>5.25</td>\n",
       "      <td>8.0</td>\n",
       "      <td>9</td>\n",
       "      <td>30000.0</td>\n",
       "      <td>60</td>\n",
       "      <td>Good</td>\n",
       "      <td>train</td>\n",
       "      <td>9000.0</td>\n",
       "      <td>1978-11-25</td>\n",
       "      <td>Savings</td>\n",
       "      <td>3.426698</td>\n",
       "      <td>6.423048</td>\n",
       "      <td>First Bank</td>\n",
       "      <td>Permanent</td>\n",
       "      <td>Secondary</td>\n",
       "    </tr>\n",
       "    <tr>\n",
       "      <th>4</th>\n",
       "      <td>8a1edbf14734127f0147356fdb1b1eb2</td>\n",
       "      <td>4500.0</td>\n",
       "      <td>2250.000000</td>\n",
       "      <td>10000.000000</td>\n",
       "      <td>22.500000</td>\n",
       "      <td>4.50</td>\n",
       "      <td>2.0</td>\n",
       "      <td>3</td>\n",
       "      <td>10000.0</td>\n",
       "      <td>15</td>\n",
       "      <td>Good</td>\n",
       "      <td>train</td>\n",
       "      <td>1500.0</td>\n",
       "      <td>1978-04-07</td>\n",
       "      <td>Savings</td>\n",
       "      <td>6.976132</td>\n",
       "      <td>4.823429</td>\n",
       "      <td>GT Bank</td>\n",
       "      <td>Permanent</td>\n",
       "      <td>Secondary</td>\n",
       "    </tr>\n",
       "  </tbody>\n",
       "</table>\n",
       "</div>"
      ],
      "text/plain": [
       "                         customerid  Totalprofit    Avgprofit  Avgloanamount  \\\n",
       "0  8a1088a0484472eb01484669e3ce4e0b       1500.0  1500.000000   10000.000000   \n",
       "1  8a1a1e7e4f707f8b014f797718316cad      19500.0  4875.000000   17500.000000   \n",
       "2  8a1a32fc49b632520149c3b8fdf85139      16500.0  2357.142857   12857.142857   \n",
       "3  8a1eb5ba49a682300149c3c068b806c7      32400.0  4050.000000   16250.000000   \n",
       "4  8a1edbf14734127f0147356fdb1b1eb2       4500.0  2250.000000   10000.000000   \n",
       "\n",
       "   Avgtermdays  Avgdaysleft  earlypayment  loannumber  loanamount  termdays  \\\n",
       "0    15.000000        -7.00           0.0           2     10000.0        15   \n",
       "1    37.500000         6.25           3.0           5     30000.0        60   \n",
       "2    19.285714         1.00           6.0           8     20000.0        30   \n",
       "3    33.750000         5.25           8.0           9     30000.0        60   \n",
       "4    22.500000         4.50           2.0           3     10000.0        15   \n",
       "\n",
       "  good_bad_flag  set_x  new_profit  birthdate bank_account_type  \\\n",
       "0           Bad  train      1500.0 1989-11-09           Savings   \n",
       "1          Good  train      9000.0 1979-10-18             Other   \n",
       "2          Good  train      4500.0 1979-01-29           Savings   \n",
       "3          Good  train      9000.0 1978-11-25           Savings   \n",
       "4          Good  train      1500.0 1978-04-07           Savings   \n",
       "\n",
       "   longitude_gps  latitude_gps   bank_name_clients employment_status_clients  \\\n",
       "0       3.351667      6.657019             GT Bank                 Permanent   \n",
       "1       3.395230      6.592191  Standard Chartered                 Permanent   \n",
       "2       3.306388      6.651843             GT Bank                 Permanent   \n",
       "3       3.426698      6.423048          First Bank                 Permanent   \n",
       "4       6.976132      4.823429             GT Bank                 Permanent   \n",
       "\n",
       "  level_of_education_clients  \n",
       "0                    Primary  \n",
       "1                   Graduate  \n",
       "2                   Graduate  \n",
       "3                  Secondary  \n",
       "4                  Secondary  "
      ]
     },
     "execution_count": 153,
     "metadata": {},
     "output_type": "execute_result"
    }
   ],
   "source": [
    "features.head()"
   ]
  },
  {
   "cell_type": "code",
   "execution_count": 154,
   "metadata": {},
   "outputs": [],
   "source": [
    "##create new column now"
   ]
  },
  {
   "cell_type": "code",
   "execution_count": 155,
   "metadata": {},
   "outputs": [],
   "source": [
    "import datetime as dt\n",
    "features['now'] = dt.datetime.now()\n",
    "\n"
   ]
  },
  {
   "cell_type": "code",
   "execution_count": 156,
   "metadata": {},
   "outputs": [],
   "source": [
    "features['now'] = features['now'].apply(lambda x : x.year)"
   ]
  },
  {
   "cell_type": "code",
   "execution_count": 157,
   "metadata": {},
   "outputs": [],
   "source": [
    "#change birth date to year"
   ]
  },
  {
   "cell_type": "code",
   "execution_count": 158,
   "metadata": {},
   "outputs": [],
   "source": [
    "features['birthdate'] = features['birthdate'].apply(lambda x : x.year)"
   ]
  },
  {
   "cell_type": "code",
   "execution_count": 159,
   "metadata": {},
   "outputs": [],
   "source": [
    "#create new column age "
   ]
  },
  {
   "cell_type": "code",
   "execution_count": 160,
   "metadata": {},
   "outputs": [],
   "source": [
    "features['age']=(features['now']-features['birthdate'])"
   ]
  },
  {
   "cell_type": "code",
   "execution_count": 161,
   "metadata": {},
   "outputs": [],
   "source": [
    "##Drop birthdate we no longer need it"
   ]
  },
  {
   "cell_type": "code",
   "execution_count": 162,
   "metadata": {},
   "outputs": [],
   "source": [
    "features=features.drop('birthdate',axis=1)"
   ]
  },
  {
   "cell_type": "raw",
   "metadata": {},
   "source": [
    "Create categorical age groups"
   ]
  },
  {
   "cell_type": "code",
   "execution_count": 163,
   "metadata": {},
   "outputs": [],
   "source": [
    "features.age=pd.cut(features.age,[0,13,31,51,100],labels=[1,2,3,4])"
   ]
  },
  {
   "cell_type": "code",
   "execution_count": 164,
   "metadata": {},
   "outputs": [],
   "source": [
    "features.age=features.age.astype('int')"
   ]
  },
  {
   "cell_type": "code",
   "execution_count": 165,
   "metadata": {},
   "outputs": [
    {
     "data": {
      "text/plain": [
       "Index(['customerid', 'Totalprofit', 'Avgprofit', 'Avgloanamount',\n",
       "       'Avgtermdays', 'Avgdaysleft', 'earlypayment', 'loannumber',\n",
       "       'loanamount', 'termdays', 'good_bad_flag', 'set_x', 'new_profit',\n",
       "       'bank_account_type', 'longitude_gps', 'latitude_gps',\n",
       "       'bank_name_clients', 'employment_status_clients',\n",
       "       'level_of_education_clients', 'now', 'age'],\n",
       "      dtype='object')"
      ]
     },
     "execution_count": 165,
     "metadata": {},
     "output_type": "execute_result"
    }
   ],
   "source": [
    "features.columns"
   ]
  },
  {
   "cell_type": "code",
   "execution_count": 166,
   "metadata": {},
   "outputs": [],
   "source": [
    "features=features.drop('now',axis=1)"
   ]
  },
  {
   "cell_type": "code",
   "execution_count": 167,
   "metadata": {},
   "outputs": [
    {
     "name": "stdout",
     "output_type": "stream",
     "text": [
      "<class 'pandas.core.frame.DataFrame'>\n",
      "Int64Index: 5821 entries, 0 to 5820\n",
      "Data columns (total 20 columns):\n",
      "customerid                    5821 non-null object\n",
      "Totalprofit                   5804 non-null float64\n",
      "Avgprofit                     5804 non-null float64\n",
      "Avgloanamount                 5804 non-null float64\n",
      "Avgtermdays                   5804 non-null float64\n",
      "Avgdaysleft                   5804 non-null float64\n",
      "earlypayment                  5804 non-null float64\n",
      "loannumber                    5821 non-null int64\n",
      "loanamount                    5821 non-null float64\n",
      "termdays                      5821 non-null int64\n",
      "good_bad_flag                 4371 non-null object\n",
      "set_x                         5821 non-null object\n",
      "new_profit                    5821 non-null float64\n",
      "bank_account_type             5821 non-null object\n",
      "longitude_gps                 5821 non-null float64\n",
      "latitude_gps                  5821 non-null float64\n",
      "bank_name_clients             5821 non-null object\n",
      "employment_status_clients     5821 non-null object\n",
      "level_of_education_clients    5821 non-null object\n",
      "age                           5821 non-null int64\n",
      "dtypes: float64(10), int64(3), object(7)\n",
      "memory usage: 955.0+ KB\n"
     ]
    }
   ],
   "source": [
    "features.info()"
   ]
  },
  {
   "cell_type": "markdown",
   "metadata": {},
   "source": [
    "### Transform skewed numeric features"
   ]
  },
  {
   "cell_type": "code",
   "execution_count": 168,
   "metadata": {},
   "outputs": [
    {
     "name": "stderr",
     "output_type": "stream",
     "text": [
      "/home/dobvinci/anaconda3/lib/python3.7/site-packages/ipykernel_launcher.py:8: RuntimeWarning: invalid value encountered in log1p\n",
      "  \n"
     ]
    }
   ],
   "source": [
    "#log transform skewed numeric features:\n",
    "numeric_feats = features.dtypes[(features.dtypes != \"object\") & (features.dtypes !='category')].index\n",
    "\n",
    "skewed_feats = features[numeric_feats].apply(lambda x: pd.DataFrame.skew(x)) #compute skewness\n",
    "skewed_feats = skewed_feats[skewed_feats > 0.75]\n",
    "skewed_feats = skewed_feats.index\n",
    "\n",
    "features[skewed_feats] = np.log1p(features[skewed_feats])\n"
   ]
  },
  {
   "cell_type": "code",
   "execution_count": 169,
   "metadata": {},
   "outputs": [
    {
     "data": {
      "text/plain": [
       "float64    12\n",
       "object      7\n",
       "int64       1\n",
       "dtype: int64"
      ]
     },
     "execution_count": 169,
     "metadata": {},
     "output_type": "execute_result"
    }
   ],
   "source": [
    "features.dtypes.value_counts()"
   ]
  },
  {
   "cell_type": "markdown",
   "metadata": {},
   "source": [
    "### impute mode"
   ]
  },
  {
   "cell_type": "code",
   "execution_count": 170,
   "metadata": {},
   "outputs": [],
   "source": [
    "catfeats_fillnamode=['good_bad_flag']\n",
    "features.loc[:, catfeats_fillnamode] = \\\n",
    "    features[catfeats_fillnamode].fillna(features[catfeats_fillnamode].mode().iloc[0])"
   ]
  },
  {
   "cell_type": "markdown",
   "metadata": {},
   "source": [
    "### impute 0"
   ]
  },
  {
   "cell_type": "code",
   "execution_count": 171,
   "metadata": {},
   "outputs": [],
   "source": [
    "features['Totalprofit']=features.Totalprofit.fillna(0)"
   ]
  },
  {
   "cell_type": "code",
   "execution_count": 172,
   "metadata": {},
   "outputs": [],
   "source": [
    "features['Avgprofit']=features.Avgprofit.fillna(0)"
   ]
  },
  {
   "cell_type": "code",
   "execution_count": 173,
   "metadata": {},
   "outputs": [],
   "source": [
    "features['Avgloanamount']=features.Avgloanamount.fillna(0)"
   ]
  },
  {
   "cell_type": "code",
   "execution_count": 174,
   "metadata": {},
   "outputs": [],
   "source": [
    "features['Avgtermdays']=features.Avgtermdays.fillna(0)"
   ]
  },
  {
   "cell_type": "code",
   "execution_count": 175,
   "metadata": {},
   "outputs": [],
   "source": [
    "features['Avgdaysleft']=features.Avgdaysleft.fillna(0)"
   ]
  },
  {
   "cell_type": "code",
   "execution_count": 176,
   "metadata": {},
   "outputs": [],
   "source": [
    "features['earlypayment']=features.earlypayment.fillna(0)"
   ]
  },
  {
   "cell_type": "markdown",
   "metadata": {},
   "source": [
    "### Label Encoding function"
   ]
  },
  {
   "cell_type": "code",
   "execution_count": 177,
   "metadata": {},
   "outputs": [
    {
     "data": {
      "text/html": [
       "<div>\n",
       "<style scoped>\n",
       "    .dataframe tbody tr th:only-of-type {\n",
       "        vertical-align: middle;\n",
       "    }\n",
       "\n",
       "    .dataframe tbody tr th {\n",
       "        vertical-align: top;\n",
       "    }\n",
       "\n",
       "    .dataframe thead th {\n",
       "        text-align: right;\n",
       "    }\n",
       "</style>\n",
       "<table border=\"1\" class=\"dataframe\">\n",
       "  <thead>\n",
       "    <tr style=\"text-align: right;\">\n",
       "      <th></th>\n",
       "      <th>customerid</th>\n",
       "      <th>Totalprofit</th>\n",
       "      <th>Avgprofit</th>\n",
       "      <th>Avgloanamount</th>\n",
       "      <th>Avgtermdays</th>\n",
       "      <th>Avgdaysleft</th>\n",
       "      <th>earlypayment</th>\n",
       "      <th>loannumber</th>\n",
       "      <th>loanamount</th>\n",
       "      <th>termdays</th>\n",
       "      <th>good_bad_flag</th>\n",
       "      <th>set_x</th>\n",
       "      <th>new_profit</th>\n",
       "      <th>bank_account_type</th>\n",
       "      <th>longitude_gps</th>\n",
       "      <th>latitude_gps</th>\n",
       "      <th>bank_name_clients</th>\n",
       "      <th>employment_status_clients</th>\n",
       "      <th>level_of_education_clients</th>\n",
       "      <th>age</th>\n",
       "    </tr>\n",
       "  </thead>\n",
       "  <tbody>\n",
       "    <tr>\n",
       "      <th>0</th>\n",
       "      <td>8a1088a0484472eb01484669e3ce4e0b</td>\n",
       "      <td>7.313887</td>\n",
       "      <td>1500.000000</td>\n",
       "      <td>9.210440</td>\n",
       "      <td>15.000000</td>\n",
       "      <td>-7.00</td>\n",
       "      <td>0.000000</td>\n",
       "      <td>1.098612</td>\n",
       "      <td>9.210440</td>\n",
       "      <td>2.772589</td>\n",
       "      <td>Bad</td>\n",
       "      <td>train</td>\n",
       "      <td>7.313887</td>\n",
       "      <td>Savings</td>\n",
       "      <td>1.470559</td>\n",
       "      <td>2.035623</td>\n",
       "      <td>GT Bank</td>\n",
       "      <td>Permanent</td>\n",
       "      <td>Primary</td>\n",
       "      <td>2</td>\n",
       "    </tr>\n",
       "    <tr>\n",
       "      <th>1</th>\n",
       "      <td>8a1a1e7e4f707f8b014f797718316cad</td>\n",
       "      <td>9.878221</td>\n",
       "      <td>4875.000000</td>\n",
       "      <td>9.770013</td>\n",
       "      <td>37.500000</td>\n",
       "      <td>6.25</td>\n",
       "      <td>1.386294</td>\n",
       "      <td>1.791759</td>\n",
       "      <td>10.308986</td>\n",
       "      <td>4.110874</td>\n",
       "      <td>Good</td>\n",
       "      <td>train</td>\n",
       "      <td>9.105091</td>\n",
       "      <td>Other</td>\n",
       "      <td>1.480520</td>\n",
       "      <td>2.027120</td>\n",
       "      <td>Standard Chartered</td>\n",
       "      <td>Permanent</td>\n",
       "      <td>Graduate</td>\n",
       "      <td>3</td>\n",
       "    </tr>\n",
       "    <tr>\n",
       "      <th>2</th>\n",
       "      <td>8a1a32fc49b632520149c3b8fdf85139</td>\n",
       "      <td>9.711176</td>\n",
       "      <td>2357.142857</td>\n",
       "      <td>9.461733</td>\n",
       "      <td>19.285714</td>\n",
       "      <td>1.00</td>\n",
       "      <td>1.945910</td>\n",
       "      <td>2.197225</td>\n",
       "      <td>9.903538</td>\n",
       "      <td>3.433987</td>\n",
       "      <td>Good</td>\n",
       "      <td>train</td>\n",
       "      <td>8.412055</td>\n",
       "      <td>Savings</td>\n",
       "      <td>1.460100</td>\n",
       "      <td>2.034947</td>\n",
       "      <td>GT Bank</td>\n",
       "      <td>Permanent</td>\n",
       "      <td>Graduate</td>\n",
       "      <td>3</td>\n",
       "    </tr>\n",
       "    <tr>\n",
       "      <th>3</th>\n",
       "      <td>8a1eb5ba49a682300149c3c068b806c7</td>\n",
       "      <td>10.385945</td>\n",
       "      <td>4050.000000</td>\n",
       "      <td>9.695910</td>\n",
       "      <td>33.750000</td>\n",
       "      <td>5.25</td>\n",
       "      <td>2.197225</td>\n",
       "      <td>2.302585</td>\n",
       "      <td>10.308986</td>\n",
       "      <td>4.110874</td>\n",
       "      <td>Good</td>\n",
       "      <td>train</td>\n",
       "      <td>9.105091</td>\n",
       "      <td>Savings</td>\n",
       "      <td>1.487654</td>\n",
       "      <td>2.004590</td>\n",
       "      <td>First Bank</td>\n",
       "      <td>Permanent</td>\n",
       "      <td>Secondary</td>\n",
       "      <td>3</td>\n",
       "    </tr>\n",
       "    <tr>\n",
       "      <th>4</th>\n",
       "      <td>8a1edbf14734127f0147356fdb1b1eb2</td>\n",
       "      <td>8.412055</td>\n",
       "      <td>2250.000000</td>\n",
       "      <td>9.210440</td>\n",
       "      <td>22.500000</td>\n",
       "      <td>4.50</td>\n",
       "      <td>1.098612</td>\n",
       "      <td>1.386294</td>\n",
       "      <td>9.210440</td>\n",
       "      <td>2.772589</td>\n",
       "      <td>Good</td>\n",
       "      <td>train</td>\n",
       "      <td>7.313887</td>\n",
       "      <td>Savings</td>\n",
       "      <td>2.076454</td>\n",
       "      <td>1.761889</td>\n",
       "      <td>GT Bank</td>\n",
       "      <td>Permanent</td>\n",
       "      <td>Secondary</td>\n",
       "      <td>3</td>\n",
       "    </tr>\n",
       "  </tbody>\n",
       "</table>\n",
       "</div>"
      ],
      "text/plain": [
       "                         customerid  Totalprofit    Avgprofit  Avgloanamount  \\\n",
       "0  8a1088a0484472eb01484669e3ce4e0b     7.313887  1500.000000       9.210440   \n",
       "1  8a1a1e7e4f707f8b014f797718316cad     9.878221  4875.000000       9.770013   \n",
       "2  8a1a32fc49b632520149c3b8fdf85139     9.711176  2357.142857       9.461733   \n",
       "3  8a1eb5ba49a682300149c3c068b806c7    10.385945  4050.000000       9.695910   \n",
       "4  8a1edbf14734127f0147356fdb1b1eb2     8.412055  2250.000000       9.210440   \n",
       "\n",
       "   Avgtermdays  Avgdaysleft  earlypayment  loannumber  loanamount  termdays  \\\n",
       "0    15.000000        -7.00      0.000000    1.098612    9.210440  2.772589   \n",
       "1    37.500000         6.25      1.386294    1.791759   10.308986  4.110874   \n",
       "2    19.285714         1.00      1.945910    2.197225    9.903538  3.433987   \n",
       "3    33.750000         5.25      2.197225    2.302585   10.308986  4.110874   \n",
       "4    22.500000         4.50      1.098612    1.386294    9.210440  2.772589   \n",
       "\n",
       "  good_bad_flag  set_x  new_profit bank_account_type  longitude_gps  \\\n",
       "0           Bad  train    7.313887           Savings       1.470559   \n",
       "1          Good  train    9.105091             Other       1.480520   \n",
       "2          Good  train    8.412055           Savings       1.460100   \n",
       "3          Good  train    9.105091           Savings       1.487654   \n",
       "4          Good  train    7.313887           Savings       2.076454   \n",
       "\n",
       "   latitude_gps   bank_name_clients employment_status_clients  \\\n",
       "0      2.035623             GT Bank                 Permanent   \n",
       "1      2.027120  Standard Chartered                 Permanent   \n",
       "2      2.034947             GT Bank                 Permanent   \n",
       "3      2.004590          First Bank                 Permanent   \n",
       "4      1.761889             GT Bank                 Permanent   \n",
       "\n",
       "  level_of_education_clients  age  \n",
       "0                    Primary    2  \n",
       "1                   Graduate    3  \n",
       "2                   Graduate    3  \n",
       "3                  Secondary    3  \n",
       "4                  Secondary    3  "
      ]
     },
     "execution_count": 177,
     "metadata": {},
     "output_type": "execute_result"
    }
   ],
   "source": [
    "features.head()"
   ]
  },
  {
   "cell_type": "code",
   "execution_count": 178,
   "metadata": {},
   "outputs": [
    {
     "data": {
      "text/plain": [
       "Index(['customerid', 'Totalprofit', 'Avgprofit', 'Avgloanamount',\n",
       "       'Avgtermdays', 'Avgdaysleft', 'earlypayment', 'loannumber',\n",
       "       'loanamount', 'termdays', 'good_bad_flag', 'set_x', 'new_profit',\n",
       "       'bank_account_type', 'longitude_gps', 'latitude_gps',\n",
       "       'bank_name_clients', 'employment_status_clients',\n",
       "       'level_of_education_clients', 'age'],\n",
       "      dtype='object')"
      ]
     },
     "execution_count": 178,
     "metadata": {},
     "output_type": "execute_result"
    }
   ],
   "source": [
    "features.columns"
   ]
  },
  {
   "cell_type": "code",
   "execution_count": 179,
   "metadata": {},
   "outputs": [],
   "source": [
    "#Import library:\n",
    "from sklearn.preprocessing import LabelEncoder\n",
    "le = LabelEncoder()\n",
    "\n",
    "#New variable for ures\n",
    "var_mod = [\"good_bad_flag\",\"bank_account_type\", \"bank_account_type\", \"bank_name_clients\" ,\"employment_status_clients\" ,\"level_of_education_clients\"]\n",
    "\n",
    "for i in var_mod:\n",
    "    features[i] = le.fit_transform(features[i])"
   ]
  },
  {
   "cell_type": "code",
   "execution_count": null,
   "metadata": {},
   "outputs": [],
   "source": []
  },
  {
   "cell_type": "markdown",
   "metadata": {},
   "source": [
    "### Seperate the datasets"
   ]
  },
  {
   "cell_type": "code",
   "execution_count": 180,
   "metadata": {},
   "outputs": [],
   "source": [
    "#Divide into test and train:\n",
    "train = features.loc[features['set_x']==\"train\"]\n",
    "test = features.loc[features['set_x']==\"test\"]\n",
    "#Drop unnecessary columns:\n",
    "#features.drop(['SalePrice','set'],axis=1,inplace=True)\n"
   ]
  },
  {
   "cell_type": "code",
   "execution_count": 181,
   "metadata": {},
   "outputs": [
    {
     "data": {
      "text/html": [
       "<div>\n",
       "<style scoped>\n",
       "    .dataframe tbody tr th:only-of-type {\n",
       "        vertical-align: middle;\n",
       "    }\n",
       "\n",
       "    .dataframe tbody tr th {\n",
       "        vertical-align: top;\n",
       "    }\n",
       "\n",
       "    .dataframe thead th {\n",
       "        text-align: right;\n",
       "    }\n",
       "</style>\n",
       "<table border=\"1\" class=\"dataframe\">\n",
       "  <thead>\n",
       "    <tr style=\"text-align: right;\">\n",
       "      <th></th>\n",
       "      <th>customerid</th>\n",
       "      <th>Totalprofit</th>\n",
       "      <th>Avgprofit</th>\n",
       "      <th>Avgloanamount</th>\n",
       "      <th>Avgtermdays</th>\n",
       "      <th>Avgdaysleft</th>\n",
       "      <th>earlypayment</th>\n",
       "      <th>loannumber</th>\n",
       "      <th>loanamount</th>\n",
       "      <th>termdays</th>\n",
       "      <th>good_bad_flag</th>\n",
       "      <th>set_x</th>\n",
       "      <th>new_profit</th>\n",
       "      <th>bank_account_type</th>\n",
       "      <th>longitude_gps</th>\n",
       "      <th>latitude_gps</th>\n",
       "      <th>bank_name_clients</th>\n",
       "      <th>employment_status_clients</th>\n",
       "      <th>level_of_education_clients</th>\n",
       "      <th>age</th>\n",
       "    </tr>\n",
       "  </thead>\n",
       "  <tbody>\n",
       "    <tr>\n",
       "      <th>0</th>\n",
       "      <td>8a1088a0484472eb01484669e3ce4e0b</td>\n",
       "      <td>7.313887</td>\n",
       "      <td>1500.000000</td>\n",
       "      <td>9.210440</td>\n",
       "      <td>15.000000</td>\n",
       "      <td>-7.00</td>\n",
       "      <td>0.000000</td>\n",
       "      <td>1.098612</td>\n",
       "      <td>9.210440</td>\n",
       "      <td>2.772589</td>\n",
       "      <td>0</td>\n",
       "      <td>train</td>\n",
       "      <td>7.313887</td>\n",
       "      <td>2</td>\n",
       "      <td>1.470559</td>\n",
       "      <td>2.035623</td>\n",
       "      <td>6</td>\n",
       "      <td>0</td>\n",
       "      <td>2</td>\n",
       "      <td>2</td>\n",
       "    </tr>\n",
       "    <tr>\n",
       "      <th>1</th>\n",
       "      <td>8a1a1e7e4f707f8b014f797718316cad</td>\n",
       "      <td>9.878221</td>\n",
       "      <td>4875.000000</td>\n",
       "      <td>9.770013</td>\n",
       "      <td>37.500000</td>\n",
       "      <td>6.25</td>\n",
       "      <td>1.386294</td>\n",
       "      <td>1.791759</td>\n",
       "      <td>10.308986</td>\n",
       "      <td>4.110874</td>\n",
       "      <td>1</td>\n",
       "      <td>train</td>\n",
       "      <td>9.105091</td>\n",
       "      <td>1</td>\n",
       "      <td>1.480520</td>\n",
       "      <td>2.027120</td>\n",
       "      <td>11</td>\n",
       "      <td>0</td>\n",
       "      <td>0</td>\n",
       "      <td>3</td>\n",
       "    </tr>\n",
       "    <tr>\n",
       "      <th>2</th>\n",
       "      <td>8a1a32fc49b632520149c3b8fdf85139</td>\n",
       "      <td>9.711176</td>\n",
       "      <td>2357.142857</td>\n",
       "      <td>9.461733</td>\n",
       "      <td>19.285714</td>\n",
       "      <td>1.00</td>\n",
       "      <td>1.945910</td>\n",
       "      <td>2.197225</td>\n",
       "      <td>9.903538</td>\n",
       "      <td>3.433987</td>\n",
       "      <td>1</td>\n",
       "      <td>train</td>\n",
       "      <td>8.412055</td>\n",
       "      <td>2</td>\n",
       "      <td>1.460100</td>\n",
       "      <td>2.034947</td>\n",
       "      <td>6</td>\n",
       "      <td>0</td>\n",
       "      <td>0</td>\n",
       "      <td>3</td>\n",
       "    </tr>\n",
       "    <tr>\n",
       "      <th>3</th>\n",
       "      <td>8a1eb5ba49a682300149c3c068b806c7</td>\n",
       "      <td>10.385945</td>\n",
       "      <td>4050.000000</td>\n",
       "      <td>9.695910</td>\n",
       "      <td>33.750000</td>\n",
       "      <td>5.25</td>\n",
       "      <td>2.197225</td>\n",
       "      <td>2.302585</td>\n",
       "      <td>10.308986</td>\n",
       "      <td>4.110874</td>\n",
       "      <td>1</td>\n",
       "      <td>train</td>\n",
       "      <td>9.105091</td>\n",
       "      <td>2</td>\n",
       "      <td>1.487654</td>\n",
       "      <td>2.004590</td>\n",
       "      <td>5</td>\n",
       "      <td>0</td>\n",
       "      <td>3</td>\n",
       "      <td>3</td>\n",
       "    </tr>\n",
       "    <tr>\n",
       "      <th>4</th>\n",
       "      <td>8a1edbf14734127f0147356fdb1b1eb2</td>\n",
       "      <td>8.412055</td>\n",
       "      <td>2250.000000</td>\n",
       "      <td>9.210440</td>\n",
       "      <td>22.500000</td>\n",
       "      <td>4.50</td>\n",
       "      <td>1.098612</td>\n",
       "      <td>1.386294</td>\n",
       "      <td>9.210440</td>\n",
       "      <td>2.772589</td>\n",
       "      <td>1</td>\n",
       "      <td>train</td>\n",
       "      <td>7.313887</td>\n",
       "      <td>2</td>\n",
       "      <td>2.076454</td>\n",
       "      <td>1.761889</td>\n",
       "      <td>6</td>\n",
       "      <td>0</td>\n",
       "      <td>3</td>\n",
       "      <td>3</td>\n",
       "    </tr>\n",
       "  </tbody>\n",
       "</table>\n",
       "</div>"
      ],
      "text/plain": [
       "                         customerid  Totalprofit    Avgprofit  Avgloanamount  \\\n",
       "0  8a1088a0484472eb01484669e3ce4e0b     7.313887  1500.000000       9.210440   \n",
       "1  8a1a1e7e4f707f8b014f797718316cad     9.878221  4875.000000       9.770013   \n",
       "2  8a1a32fc49b632520149c3b8fdf85139     9.711176  2357.142857       9.461733   \n",
       "3  8a1eb5ba49a682300149c3c068b806c7    10.385945  4050.000000       9.695910   \n",
       "4  8a1edbf14734127f0147356fdb1b1eb2     8.412055  2250.000000       9.210440   \n",
       "\n",
       "   Avgtermdays  Avgdaysleft  earlypayment  loannumber  loanamount  termdays  \\\n",
       "0    15.000000        -7.00      0.000000    1.098612    9.210440  2.772589   \n",
       "1    37.500000         6.25      1.386294    1.791759   10.308986  4.110874   \n",
       "2    19.285714         1.00      1.945910    2.197225    9.903538  3.433987   \n",
       "3    33.750000         5.25      2.197225    2.302585   10.308986  4.110874   \n",
       "4    22.500000         4.50      1.098612    1.386294    9.210440  2.772589   \n",
       "\n",
       "   good_bad_flag  set_x  new_profit  bank_account_type  longitude_gps  \\\n",
       "0              0  train    7.313887                  2       1.470559   \n",
       "1              1  train    9.105091                  1       1.480520   \n",
       "2              1  train    8.412055                  2       1.460100   \n",
       "3              1  train    9.105091                  2       1.487654   \n",
       "4              1  train    7.313887                  2       2.076454   \n",
       "\n",
       "   latitude_gps  bank_name_clients  employment_status_clients  \\\n",
       "0      2.035623                  6                          0   \n",
       "1      2.027120                 11                          0   \n",
       "2      2.034947                  6                          0   \n",
       "3      2.004590                  5                          0   \n",
       "4      1.761889                  6                          0   \n",
       "\n",
       "   level_of_education_clients  age  \n",
       "0                           2    2  \n",
       "1                           0    3  \n",
       "2                           0    3  \n",
       "3                           3    3  \n",
       "4                           3    3  "
      ]
     },
     "execution_count": 181,
     "metadata": {},
     "output_type": "execute_result"
    }
   ],
   "source": [
    "train.head()"
   ]
  },
  {
   "cell_type": "code",
   "execution_count": 182,
   "metadata": {},
   "outputs": [
    {
     "data": {
      "text/html": [
       "<div>\n",
       "<style scoped>\n",
       "    .dataframe tbody tr th:only-of-type {\n",
       "        vertical-align: middle;\n",
       "    }\n",
       "\n",
       "    .dataframe tbody tr th {\n",
       "        vertical-align: top;\n",
       "    }\n",
       "\n",
       "    .dataframe thead th {\n",
       "        text-align: right;\n",
       "    }\n",
       "</style>\n",
       "<table border=\"1\" class=\"dataframe\">\n",
       "  <thead>\n",
       "    <tr style=\"text-align: right;\">\n",
       "      <th></th>\n",
       "      <th>customerid</th>\n",
       "      <th>Totalprofit</th>\n",
       "      <th>Avgprofit</th>\n",
       "      <th>Avgloanamount</th>\n",
       "      <th>Avgtermdays</th>\n",
       "      <th>Avgdaysleft</th>\n",
       "      <th>earlypayment</th>\n",
       "      <th>loannumber</th>\n",
       "      <th>loanamount</th>\n",
       "      <th>termdays</th>\n",
       "      <th>good_bad_flag</th>\n",
       "      <th>set_x</th>\n",
       "      <th>new_profit</th>\n",
       "      <th>bank_account_type</th>\n",
       "      <th>longitude_gps</th>\n",
       "      <th>latitude_gps</th>\n",
       "      <th>bank_name_clients</th>\n",
       "      <th>employment_status_clients</th>\n",
       "      <th>level_of_education_clients</th>\n",
       "      <th>age</th>\n",
       "    </tr>\n",
       "  </thead>\n",
       "  <tbody>\n",
       "    <tr>\n",
       "      <th>6</th>\n",
       "      <td>8a28afc7474813a40147639ec637156b</td>\n",
       "      <td>10.401258</td>\n",
       "      <td>3290.000000</td>\n",
       "      <td>9.787010</td>\n",
       "      <td>31.5</td>\n",
       "      <td>6.000000</td>\n",
       "      <td>2.302585</td>\n",
       "      <td>2.484907</td>\n",
       "      <td>10.126671</td>\n",
       "      <td>3.433987</td>\n",
       "      <td>1</td>\n",
       "      <td>test</td>\n",
       "      <td>7.824446</td>\n",
       "      <td>1</td>\n",
       "      <td>1.469902</td>\n",
       "      <td>2.015717</td>\n",
       "      <td>6</td>\n",
       "      <td>0</td>\n",
       "      <td>4</td>\n",
       "      <td>3</td>\n",
       "    </tr>\n",
       "    <tr>\n",
       "      <th>12</th>\n",
       "      <td>8a3735d5518aba7301518ac34413010d</td>\n",
       "      <td>9.798183</td>\n",
       "      <td>3000.000000</td>\n",
       "      <td>9.364577</td>\n",
       "      <td>27.5</td>\n",
       "      <td>13.333333</td>\n",
       "      <td>1.791759</td>\n",
       "      <td>2.079442</td>\n",
       "      <td>9.903538</td>\n",
       "      <td>3.433987</td>\n",
       "      <td>1</td>\n",
       "      <td>test</td>\n",
       "      <td>8.412055</td>\n",
       "      <td>1</td>\n",
       "      <td>1.477551</td>\n",
       "      <td>2.031275</td>\n",
       "      <td>6</td>\n",
       "      <td>0</td>\n",
       "      <td>0</td>\n",
       "      <td>3</td>\n",
       "    </tr>\n",
       "    <tr>\n",
       "      <th>18</th>\n",
       "      <td>8a76e7d443e6e97c0143ed099d102b1d</td>\n",
       "      <td>8.006701</td>\n",
       "      <td>1500.000000</td>\n",
       "      <td>9.210440</td>\n",
       "      <td>15.0</td>\n",
       "      <td>1.500000</td>\n",
       "      <td>1.098612</td>\n",
       "      <td>1.945910</td>\n",
       "      <td>9.903538</td>\n",
       "      <td>3.433987</td>\n",
       "      <td>1</td>\n",
       "      <td>test</td>\n",
       "      <td>8.412055</td>\n",
       "      <td>1</td>\n",
       "      <td>1.474281</td>\n",
       "      <td>2.020469</td>\n",
       "      <td>17</td>\n",
       "      <td>0</td>\n",
       "      <td>4</td>\n",
       "      <td>3</td>\n",
       "    </tr>\n",
       "    <tr>\n",
       "      <th>21</th>\n",
       "      <td>8a818823525dceef01525deda2480384</td>\n",
       "      <td>10.596035</td>\n",
       "      <td>4441.666667</td>\n",
       "      <td>9.846382</td>\n",
       "      <td>40.0</td>\n",
       "      <td>0.777778</td>\n",
       "      <td>1.945910</td>\n",
       "      <td>2.397895</td>\n",
       "      <td>10.596660</td>\n",
       "      <td>4.110874</td>\n",
       "      <td>1</td>\n",
       "      <td>test</td>\n",
       "      <td>8.987322</td>\n",
       "      <td>2</td>\n",
       "      <td>2.086258</td>\n",
       "      <td>1.767613</td>\n",
       "      <td>5</td>\n",
       "      <td>1</td>\n",
       "      <td>0</td>\n",
       "      <td>3</td>\n",
       "    </tr>\n",
       "    <tr>\n",
       "      <th>23</th>\n",
       "      <td>8a818926522ea5ef01523aff15c37482</td>\n",
       "      <td>8.699681</td>\n",
       "      <td>3000.000000</td>\n",
       "      <td>9.210440</td>\n",
       "      <td>30.0</td>\n",
       "      <td>-10.500000</td>\n",
       "      <td>0.000000</td>\n",
       "      <td>1.386294</td>\n",
       "      <td>9.903538</td>\n",
       "      <td>3.433987</td>\n",
       "      <td>1</td>\n",
       "      <td>test</td>\n",
       "      <td>8.412055</td>\n",
       "      <td>2</td>\n",
       "      <td>2.041627</td>\n",
       "      <td>1.975320</td>\n",
       "      <td>1</td>\n",
       "      <td>0</td>\n",
       "      <td>3</td>\n",
       "      <td>3</td>\n",
       "    </tr>\n",
       "  </tbody>\n",
       "</table>\n",
       "</div>"
      ],
      "text/plain": [
       "                          customerid  Totalprofit    Avgprofit  Avgloanamount  \\\n",
       "6   8a28afc7474813a40147639ec637156b    10.401258  3290.000000       9.787010   \n",
       "12  8a3735d5518aba7301518ac34413010d     9.798183  3000.000000       9.364577   \n",
       "18  8a76e7d443e6e97c0143ed099d102b1d     8.006701  1500.000000       9.210440   \n",
       "21  8a818823525dceef01525deda2480384    10.596035  4441.666667       9.846382   \n",
       "23  8a818926522ea5ef01523aff15c37482     8.699681  3000.000000       9.210440   \n",
       "\n",
       "    Avgtermdays  Avgdaysleft  earlypayment  loannumber  loanamount  termdays  \\\n",
       "6          31.5     6.000000      2.302585    2.484907   10.126671  3.433987   \n",
       "12         27.5    13.333333      1.791759    2.079442    9.903538  3.433987   \n",
       "18         15.0     1.500000      1.098612    1.945910    9.903538  3.433987   \n",
       "21         40.0     0.777778      1.945910    2.397895   10.596660  4.110874   \n",
       "23         30.0   -10.500000      0.000000    1.386294    9.903538  3.433987   \n",
       "\n",
       "    good_bad_flag set_x  new_profit  bank_account_type  longitude_gps  \\\n",
       "6               1  test    7.824446                  1       1.469902   \n",
       "12              1  test    8.412055                  1       1.477551   \n",
       "18              1  test    8.412055                  1       1.474281   \n",
       "21              1  test    8.987322                  2       2.086258   \n",
       "23              1  test    8.412055                  2       2.041627   \n",
       "\n",
       "    latitude_gps  bank_name_clients  employment_status_clients  \\\n",
       "6       2.015717                  6                          0   \n",
       "12      2.031275                  6                          0   \n",
       "18      2.020469                 17                          0   \n",
       "21      1.767613                  5                          1   \n",
       "23      1.975320                  1                          0   \n",
       "\n",
       "    level_of_education_clients  age  \n",
       "6                            4    3  \n",
       "12                           0    3  \n",
       "18                           4    3  \n",
       "21                           0    3  \n",
       "23                           3    3  "
      ]
     },
     "execution_count": 182,
     "metadata": {},
     "output_type": "execute_result"
    }
   ],
   "source": [
    "test.head()"
   ]
  },
  {
   "cell_type": "code",
   "execution_count": 183,
   "metadata": {},
   "outputs": [
    {
     "name": "stderr",
     "output_type": "stream",
     "text": [
      "/home/dobvinci/anaconda3/lib/python3.7/site-packages/pandas/core/frame.py:3940: SettingWithCopyWarning: \n",
      "A value is trying to be set on a copy of a slice from a DataFrame\n",
      "\n",
      "See the caveats in the documentation: http://pandas.pydata.org/pandas-docs/stable/indexing.html#indexing-view-versus-copy\n",
      "  errors=errors)\n"
     ]
    }
   ],
   "source": [
    "test.drop(['set_x'],axis=1,inplace=True)\n",
    "train.drop(['set_x'],axis=1,inplace=True)\n",
    "#Export files as modified versions:\n",
    "train.to_csv(\"cleaned/train_modified.csv\",index=False)\n",
    "test.to_csv(\"cleaned/test_modified.csv\",index=False)"
   ]
  },
  {
   "cell_type": "markdown",
   "metadata": {},
   "source": [
    "## Modelling"
   ]
  },
  {
   "cell_type": "code",
   "execution_count": 184,
   "metadata": {},
   "outputs": [],
   "source": [
    "train_df = pd.read_csv('cleaned/train_modified.csv')\n",
    "test_df = pd.read_csv('cleaned/test_modified.csv')\n",
    "\n",
    "#Define target and ID columns:\n",
    "target = 'good_bad_flag'\n"
   ]
  },
  {
   "cell_type": "code",
   "execution_count": 185,
   "metadata": {},
   "outputs": [],
   "source": [
    "train_ids = train_df['customerid']\n",
    "test_ids = test_df['customerid']"
   ]
  },
  {
   "cell_type": "code",
   "execution_count": 186,
   "metadata": {},
   "outputs": [],
   "source": [
    "train_df.drop(['customerid','loannumber'],axis=1,inplace=True)"
   ]
  },
  {
   "cell_type": "code",
   "execution_count": 187,
   "metadata": {},
   "outputs": [],
   "source": [
    "test_df.drop(['customerid','loannumber',target],axis=1,inplace=True)"
   ]
  },
  {
   "cell_type": "code",
   "execution_count": 188,
   "metadata": {},
   "outputs": [
    {
     "name": "stdout",
     "output_type": "stream",
     "text": [
      "<class 'pandas.core.frame.DataFrame'>\n",
      "RangeIndex: 1450 entries, 0 to 1449\n",
      "Data columns (total 16 columns):\n",
      "Totalprofit                   1450 non-null float64\n",
      "Avgprofit                     1450 non-null float64\n",
      "Avgloanamount                 1450 non-null float64\n",
      "Avgtermdays                   1450 non-null float64\n",
      "Avgdaysleft                   1450 non-null float64\n",
      "earlypayment                  1450 non-null float64\n",
      "loanamount                    1450 non-null float64\n",
      "termdays                      1450 non-null float64\n",
      "new_profit                    1450 non-null float64\n",
      "bank_account_type             1450 non-null int64\n",
      "longitude_gps                 1450 non-null float64\n",
      "latitude_gps                  1450 non-null float64\n",
      "bank_name_clients             1450 non-null int64\n",
      "employment_status_clients     1450 non-null int64\n",
      "level_of_education_clients    1450 non-null int64\n",
      "age                           1450 non-null int64\n",
      "dtypes: float64(11), int64(5)\n",
      "memory usage: 181.3 KB\n"
     ]
    }
   ],
   "source": [
    "test_df.info()"
   ]
  },
  {
   "cell_type": "code",
   "execution_count": null,
   "metadata": {},
   "outputs": [],
   "source": []
  },
  {
   "cell_type": "markdown",
   "metadata": {},
   "source": [
    "We align the dataframes by the columns. This ensures we have the same columns in the training and testing datasets."
   ]
  },
  {
   "cell_type": "code",
   "execution_count": 189,
   "metadata": {},
   "outputs": [
    {
     "name": "stdout",
     "output_type": "stream",
     "text": [
      "Training shape:  (4371, 17)\n",
      "Testing shape:  (1450, 17)\n"
     ]
    }
   ],
   "source": [
    "train_df, test_df = train_df.align(test, join = 'inner', axis = 1)\n",
    "print('Training shape: ', train_df.shape)\n",
    "print('Testing shape: ', test_df.shape)"
   ]
  },
  {
   "cell_type": "markdown",
   "metadata": {},
   "source": [
    "### Feature correlation"
   ]
  },
  {
   "cell_type": "code",
   "execution_count": 190,
   "metadata": {},
   "outputs": [
    {
     "name": "stdout",
     "output_type": "stream",
     "text": [
      "bank_account_type            -0.093027\n",
      "longitude_gps                -0.023968\n",
      "level_of_education_clients   -0.018823\n",
      "latitude_gps                  0.000025\n",
      "employment_status_clients     0.000581\n",
      "bank_name_clients             0.005840\n",
      "termdays                      0.007271\n",
      "Avgtermdays                   0.017129\n",
      "new_profit                    0.023474\n",
      "Avgprofit                     0.051860\n",
      "age                           0.068944\n",
      "Avgloanamount                 0.075708\n",
      "Totalprofit                   0.089400\n",
      "loanamount                    0.125429\n",
      "earlypayment                  0.194822\n",
      "Name: good_bad_flag, dtype: float64 \n",
      "\n",
      "level_of_education_clients   -0.018823\n",
      "latitude_gps                  0.000025\n",
      "employment_status_clients     0.000581\n",
      "bank_name_clients             0.005840\n",
      "termdays                      0.007271\n",
      "Avgtermdays                   0.017129\n",
      "new_profit                    0.023474\n",
      "Avgprofit                     0.051860\n",
      "age                           0.068944\n",
      "Avgloanamount                 0.075708\n",
      "Totalprofit                   0.089400\n",
      "loanamount                    0.125429\n",
      "earlypayment                  0.194822\n",
      "Avgdaysleft                   0.238375\n",
      "good_bad_flag                 1.000000\n",
      "Name: good_bad_flag, dtype: float64\n"
     ]
    }
   ],
   "source": [
    "# Find all correlations and sort \n",
    "correlations_data = train_df.corr()['good_bad_flag'].sort_values()\n",
    "\n",
    "# Print the most negative correlations\n",
    "print(correlations_data.head(15), '\\n')\n",
    "\n",
    "# Print the most positive correlations\n",
    "print(correlations_data.tail(15))"
   ]
  },
  {
   "cell_type": "code",
   "execution_count": 194,
   "metadata": {},
   "outputs": [
    {
     "data": {
      "text/plain": [
       "Index(['Totalprofit', 'Avgprofit', 'Avgloanamount', 'Avgtermdays',\n",
       "       'Avgdaysleft', 'earlypayment', 'loanamount', 'termdays',\n",
       "       'good_bad_flag', 'new_profit', 'bank_account_type', 'longitude_gps',\n",
       "       'latitude_gps', 'bank_name_clients', 'employment_status_clients',\n",
       "       'level_of_education_clients', 'age'],\n",
       "      dtype='object')"
      ]
     },
     "execution_count": 194,
     "metadata": {},
     "output_type": "execute_result"
    }
   ],
   "source": [
    "train_df.columns"
   ]
  },
  {
   "cell_type": "code",
   "execution_count": null,
   "metadata": {},
   "outputs": [],
   "source": []
  },
  {
   "cell_type": "code",
   "execution_count": 195,
   "metadata": {},
   "outputs": [],
   "source": [
    "X=train_df.drop('good_bad_flag',axis=1)\n",
    "y=train_df['good_bad_flag']\n",
    "x_test=test_df"
   ]
  },
  {
   "cell_type": "code",
   "execution_count": null,
   "metadata": {},
   "outputs": [],
   "source": [
    "\n"
   ]
  },
  {
   "cell_type": "code",
   "execution_count": 196,
   "metadata": {},
   "outputs": [],
   "source": [
    "x_train,x_valid,y_train,y_valid=train_test_split(X, y, test_size=0.2,random_state=7)"
   ]
  },
  {
   "cell_type": "markdown",
   "metadata": {},
   "source": [
    "### Function to measure the models performance"
   ]
  },
  {
   "cell_type": "code",
   "execution_count": 197,
   "metadata": {},
   "outputs": [],
   "source": [
    "from sklearn.metrics import confusion_matrix,accuracy_score,recall_score,roc_auc_score,classification_report,roc_auc_score,roc_curve,auc\n",
    "\n",
    "#Model function\n",
    "def model(algorithm,dtrain_X,dtrain_Y,dtest_X,dtest_Y,cols=None):\n",
    "\n",
    "    algorithm.fit(dtrain_X[cols],dtrain_Y)\n",
    "    predictions = algorithm.predict(dtest_X[cols])\n",
    "    print (algorithm)\n",
    "    \n",
    "    print (\"Accuracy score : \", accuracy_score(predictions,dtest_Y))\n",
    "    print (\"Recall score   : \", recall_score(predictions,dtest_Y))\n",
    "    print (\"classification report :\\n\",classification_report(predictions,dtest_Y))\n",
    "    \n",
    "    fig = plt.figure(figsize=(10,8))\n",
    "    ax  = fig.add_subplot(111)\n",
    "    prediction_probabilities = algorithm.predict_proba(dtest_X[cols])[:,1]\n",
    "    fpr , tpr , thresholds   = roc_curve(dtest_Y,prediction_probabilities)\n",
    "    ax.plot(fpr,tpr,label   = [\"Area under curve : \",auc(fpr,tpr)],linewidth=2,linestyle=\"dotted\")\n",
    "    ax.plot([0,1],[0,1],linewidth=2,linestyle=\"dashed\")\n",
    "    plt.legend(loc=\"best\")\n",
    "    plt.title(\"ROC-CURVE & AREA UNDER CURVE\")\n",
    "    #ax.set_facecolor(\"k\")\n",
    " "
   ]
  },
  {
   "cell_type": "code",
   "execution_count": null,
   "metadata": {},
   "outputs": [],
   "source": []
  },
  {
   "cell_type": "code",
   "execution_count": null,
   "metadata": {},
   "outputs": [],
   "source": []
  },
  {
   "cell_type": "code",
   "execution_count": 198,
   "metadata": {},
   "outputs": [],
   "source": [
    "rdmforest = RandomForestClassifier()"
   ]
  },
  {
   "cell_type": "code",
   "execution_count": 199,
   "metadata": {},
   "outputs": [
    {
     "name": "stdout",
     "output_type": "stream",
     "text": [
      "RandomForestClassifier(bootstrap=True, class_weight=None, criterion='gini',\n",
      "            max_depth=None, max_features='auto', max_leaf_nodes=None,\n",
      "            min_impurity_decrease=0.0, min_impurity_split=None,\n",
      "            min_samples_leaf=1, min_samples_split=2,\n",
      "            min_weight_fraction_leaf=0.0, n_estimators=10, n_jobs=None,\n",
      "            oob_score=False, random_state=None, verbose=0,\n",
      "            warm_start=False)\n",
      "Accuracy score :  0.7634285714285715\n",
      "Recall score   :  0.8246318607764391\n",
      "classification report :\n",
      "               precision    recall  f1-score   support\n",
      "\n",
      "           0       0.28      0.41      0.33       128\n",
      "           1       0.89      0.82      0.86       747\n",
      "\n",
      "   micro avg       0.76      0.76      0.76       875\n",
      "   macro avg       0.59      0.62      0.60       875\n",
      "weighted avg       0.80      0.76      0.78       875\n",
      "\n"
     ]
    },
    {
     "name": "stderr",
     "output_type": "stream",
     "text": [
      "/home/dobvinci/anaconda3/lib/python3.7/site-packages/sklearn/ensemble/forest.py:246: FutureWarning: The default value of n_estimators will change from 10 in version 0.20 to 100 in 0.22.\n",
      "  \"10 in version 0.20 to 100 in 0.22.\", FutureWarning)\n"
     ]
    },
    {
     "data": {
      "image/png": "[encoded data removed]",
      "text/plain": [
       "<Figure size 720x576 with 1 Axes>"
      ]
     },
     "metadata": {
      "needs_background": "light"
     },
     "output_type": "display_data"
    }
   ],
   "source": [
    "model(rdmforest,x_train,y_train,x_valid,y_valid,x_train.columns)"
   ]
  },
  {
   "cell_type": "code",
   "execution_count": 200,
   "metadata": {},
   "outputs": [],
   "source": [
    "gdboost = GradientBoostingClassifier()"
   ]
  },
  {
   "cell_type": "code",
   "execution_count": 201,
   "metadata": {},
   "outputs": [
    {
     "name": "stdout",
     "output_type": "stream",
     "text": [
      "GradientBoostingClassifier(criterion='friedman_mse', init=None,\n",
      "              learning_rate=0.1, loss='deviance', max_depth=3,\n",
      "              max_features=None, max_leaf_nodes=None,\n",
      "              min_impurity_decrease=0.0, min_impurity_split=None,\n",
      "              min_samples_leaf=1, min_samples_split=2,\n",
      "              min_weight_fraction_leaf=0.0, n_estimators=100,\n",
      "              n_iter_no_change=None, presort='auto', random_state=None,\n",
      "              subsample=1.0, tol=0.0001, validation_fraction=0.1,\n",
      "              verbose=0, warm_start=False)\n",
      "Accuracy score :  0.7977142857142857\n",
      "Recall score   :  0.8182941903584673\n",
      "classification report :\n",
      "               precision    recall  f1-score   support\n",
      "\n",
      "           0       0.20      0.55      0.29        66\n",
      "           1       0.96      0.82      0.88       809\n",
      "\n",
      "   micro avg       0.80      0.80      0.80       875\n",
      "   macro avg       0.58      0.68      0.59       875\n",
      "weighted avg       0.90      0.80      0.84       875\n",
      "\n"
     ]
    },
    {
     "data": {
      "image/png": "[encoded data removed]",
      "text/plain": [
       "<Figure size 720x576 with 1 Axes>"
      ]
     },
     "metadata": {
      "needs_background": "light"
     },
     "output_type": "display_data"
    }
   ],
   "source": [
    "model(gdboost,x_train,y_train,x_valid,y_valid,x_train.columns)"
   ]
  },
  {
   "cell_type": "code",
   "execution_count": 202,
   "metadata": {},
   "outputs": [],
   "source": [
    "gnb=GaussianNB()"
   ]
  },
  {
   "cell_type": "code",
   "execution_count": 203,
   "metadata": {},
   "outputs": [
    {
     "name": "stdout",
     "output_type": "stream",
     "text": [
      "GaussianNB(priors=None, var_smoothing=1e-09)\n",
      "Accuracy score :  0.7302857142857143\n",
      "Recall score   :  0.8285302593659942\n",
      "classification report :\n",
      "               precision    recall  f1-score   support\n",
      "\n",
      "           0       0.35      0.35      0.35       181\n",
      "           1       0.83      0.83      0.83       694\n",
      "\n",
      "   micro avg       0.73      0.73      0.73       875\n",
      "   macro avg       0.59      0.59      0.59       875\n",
      "weighted avg       0.73      0.73      0.73       875\n",
      "\n"
     ]
    },
    {
     "data": {
      "image/png": "[encoded data removed]",
      "text/plain": [
       "<Figure size 720x576 with 1 Axes>"
      ]
     },
     "metadata": {
      "needs_background": "light"
     },
     "output_type": "display_data"
    }
   ],
   "source": [
    "model(gnb,x_train,y_train,x_valid,y_valid,x_train.columns)"
   ]
  },
  {
   "cell_type": "code",
   "execution_count": null,
   "metadata": {},
   "outputs": [],
   "source": []
  },
  {
   "cell_type": "code",
   "execution_count": 204,
   "metadata": {},
   "outputs": [
    {
     "name": "stdout",
     "output_type": "stream",
     "text": [
      "XGBClassifier(base_score=0.5, booster='gbtree', colsample_bylevel=1,\n",
      "       colsample_bytree=1, gamma=0, learning_rate=0.1, max_delta_step=0,\n",
      "       max_depth=3, min_child_weight=1, missing=None, n_estimators=100,\n",
      "       n_jobs=1, nthread=None, objective='binary:logistic', random_state=0,\n",
      "       reg_alpha=0, reg_lambda=1, scale_pos_weight=1, seed=None,\n",
      "       silent=True, subsample=1)\n",
      "Accuracy score :  0.792\n",
      "Recall score   :  0.8163771712158809\n",
      "classification report :\n",
      "               precision    recall  f1-score   support\n",
      "\n",
      "           0       0.19      0.51      0.28        69\n",
      "           1       0.95      0.82      0.88       806\n",
      "\n",
      "   micro avg       0.79      0.79      0.79       875\n",
      "   macro avg       0.57      0.66      0.58       875\n",
      "weighted avg       0.89      0.79      0.83       875\n",
      "\n"
     ]
    },
    {
     "data": {
      "image/png": "[encoded data removed]",
      "text/plain": [
       "<Figure size 720x576 with 1 Axes>"
      ]
     },
     "metadata": {
      "needs_background": "light"
     },
     "output_type": "display_data"
    }
   ],
   "source": [
    "xgb = XGBClassifier()\n",
    "model(xgb,x_train,y_train,x_valid,y_valid,x_train.columns)"
   ]
  },
  {
   "cell_type": "code",
   "execution_count": 205,
   "metadata": {},
   "outputs": [],
   "source": [
    "test_df.drop('good_bad_flag',inplace=True,axis=1)"
   ]
  },
  {
   "cell_type": "code",
   "execution_count": 208,
   "metadata": {},
   "outputs": [],
   "source": [
    "submission = pd.DataFrame()\n",
    "submission['customerid'] = test_ids\n",
    "submission['Good_Bad_flag'] = gdboost.predict(test_df).astype('int')\n",
    "submission.to_csv('submission2_vnjagi.csv', index=False)"
   ]
  },
  {
   "cell_type": "markdown",
   "metadata": {},
   "source": [
    "## My score was 0.206896551724138 Ranked 7th"
   ]
  }
 ],
 "metadata": {
  "kernelspec": {
   "display_name": "Python 3",
   "language": "python",
   "name": "python3"
  },
  "language_info": {
   "codemirror_mode": {
    "name": "ipython",
    "version": 3
   },
   "file_extension": ".py",
   "mimetype": "text/x-python",
   "name": "python",
   "nbconvert_exporter": "python",
   "pygments_lexer": "ipython3",
   "version": "3.7.2"
  }
 },
 "nbformat": 4,
 "nbformat_minor": 2
}
